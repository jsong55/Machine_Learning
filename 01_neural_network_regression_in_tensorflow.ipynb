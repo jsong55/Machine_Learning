{
  "nbformat": 4,
  "nbformat_minor": 0,
  "metadata": {
    "colab": {
      "provenance": [],
      "authorship_tag": "ABX9TyMbm79WmnsGE75430GOdUan",
      "include_colab_link": true
    },
    "kernelspec": {
      "name": "python3",
      "display_name": "Python 3"
    },
    "language_info": {
      "name": "python"
    }
  },
  "cells": [
    {
      "cell_type": "markdown",
      "metadata": {
        "id": "view-in-github",
        "colab_type": "text"
      },
      "source": [
        "<a href=\"https://colab.research.google.com/github/jsong55/Machine_Learning/blob/master/01_neural_network_regression_in_tensorflow.ipynb\" target=\"_parent\"><img src=\"https://colab.research.google.com/assets/colab-badge.svg\" alt=\"Open In Colab\"/></a>"
      ]
    },
    {
      "cell_type": "markdown",
      "source": [
        "# Introduction to regression with NN in TF"
      ],
      "metadata": {
        "id": "FSngqgYNw_Of"
      }
    },
    {
      "cell_type": "code",
      "execution_count": null,
      "metadata": {
        "colab": {
          "base_uri": "https://localhost:8080/"
        },
        "id": "xXWRVnPywtxI",
        "outputId": "e0ee6bfc-18db-4724-a7c9-ddb7ef1f20cf"
      },
      "outputs": [
        {
          "output_type": "stream",
          "name": "stdout",
          "text": [
            "2.8.0\n"
          ]
        }
      ],
      "source": [
        "# Import TF\n",
        "import tensorflow as tf\n",
        "print(tf.__version__)"
      ]
    },
    {
      "cell_type": "code",
      "source": [
        "import numpy as np\n",
        "import matplotlib.pyplot as plt\n",
        "\n",
        "# create features\n",
        "X = np.array([-7,-4,-1,2,5,8,11,14])\n",
        "\n",
        "# create labels\n",
        "Y = np.array([3,6,9,12,15,18,21,24])\n",
        "\n",
        "# visualize\n",
        "plt.scatter(X,Y)"
      ],
      "metadata": {
        "colab": {
          "base_uri": "https://localhost:8080/",
          "height": 287
        },
        "id": "IpsPU_apxZFQ",
        "outputId": "3229fc84-f4ff-4157-8cd6-032a693616ff"
      },
      "execution_count": null,
      "outputs": [
        {
          "output_type": "execute_result",
          "data": {
            "text/plain": [
              "<matplotlib.collections.PathCollection at 0x7fe811d01ad0>"
            ]
          },
          "metadata": {},
          "execution_count": 2
        },
        {
          "output_type": "display_data",
          "data": {
            "text/plain": [
              "<Figure size 432x288 with 1 Axes>"
            ],
            "image/png": "[encoded data removed]"
          },
          "metadata": {
            "needs_background": "light"
          }
        }
      ]
    },
    {
      "cell_type": "code",
      "source": [
        "Y == X+10"
      ],
      "metadata": {
        "colab": {
          "base_uri": "https://localhost:8080/"
        },
        "id": "w0tpPhX_yAwS",
        "outputId": "6b755b12-8e69-4051-be46-3f58ff319a4e"
      },
      "execution_count": null,
      "outputs": [
        {
          "output_type": "execute_result",
          "data": {
            "text/plain": [
              "array([ True,  True,  True,  True,  True,  True,  True,  True])"
            ]
          },
          "metadata": {},
          "execution_count": 3
        }
      ]
    },
    {
      "cell_type": "markdown",
      "source": [
        "### input and output shapes"
      ],
      "metadata": {
        "id": "GMbqeL3RyEbq"
      }
    },
    {
      "cell_type": "code",
      "source": [
        "# create a demo tensor\n",
        "houtse_info = tf.constant([\"bedroom\",\"bathroom\",\"garage\"])\n",
        "house_price = tf.constant([939700])\n",
        "houtse_info, house_price"
      ],
      "metadata": {
        "colab": {
          "base_uri": "https://localhost:8080/"
        },
        "id": "vLUimOw_yNpa",
        "outputId": "9ab4cec5-dc36-4767-ef52-420f16fb0e68"
      },
      "execution_count": null,
      "outputs": [
        {
          "output_type": "execute_result",
          "data": {
            "text/plain": [
              "(<tf.Tensor: shape=(3,), dtype=string, numpy=array([b'bedroom', b'bathroom', b'garage'], dtype=object)>,\n",
              " <tf.Tensor: shape=(1,), dtype=int32, numpy=array([939700], dtype=int32)>)"
            ]
          },
          "metadata": {},
          "execution_count": 4
        }
      ]
    },
    {
      "cell_type": "code",
      "source": [
        "# turn arrays into tensors\n",
        "X = tf.constant(X)\n",
        "Y = tf.constant(Y)\n",
        "X,Y"
      ],
      "metadata": {
        "colab": {
          "base_uri": "https://localhost:8080/"
        },
        "id": "p2wCoyT-1K5R",
        "outputId": "57b54fab-ad86-49b4-ddba-96b3b6271863"
      },
      "execution_count": null,
      "outputs": [
        {
          "output_type": "execute_result",
          "data": {
            "text/plain": [
              "(<tf.Tensor: shape=(8,), dtype=int64, numpy=array([-7, -4, -1,  2,  5,  8, 11, 14])>,\n",
              " <tf.Tensor: shape=(8,), dtype=int64, numpy=array([ 3,  6,  9, 12, 15, 18, 21, 24])>)"
            ]
          },
          "metadata": {},
          "execution_count": 5
        }
      ]
    },
    {
      "cell_type": "markdown",
      "source": [
        "## Steps in modelling with TF\n",
        "\n",
        "1. create a model - define input & output layers, hidden layers\n",
        "2. compiling a model - define the loss function, optimizer, evaluation metrics\n",
        "3. Fitting a model"
      ],
      "metadata": {
        "id": "2h-zLGxu1hJW"
      }
    },
    {
      "cell_type": "code",
      "source": [
        "# set ramdon seed\n",
        "tf.random.set_seed(42)\n",
        "\n",
        "# 1. create a model using sequential API\n",
        "model = tf.keras.Sequential([\n",
        "  tf.keras.layers.Dense(1)                            \n",
        "])\n",
        "\n",
        "#2 compile the model\n",
        "model.compile(loss = tf.keras.losses.mae,\n",
        "              optimizer = tf.keras.optimizers.SGD(),\n",
        "              metrics = [\"mae\"])\n",
        "\n",
        "# fit the model\n",
        "model.fit(tf.expand_dims(X,axis = -1),Y,epochs = 5)"
      ],
      "metadata": {
        "colab": {
          "base_uri": "https://localhost:8080/"
        },
        "id": "wFCj_ucB103_",
        "outputId": "20783e4f-8082-44c7-8567-11c6b2f0b9d4"
      },
      "execution_count": null,
      "outputs": [
        {
          "output_type": "stream",
          "name": "stdout",
          "text": [
            "Epoch 1/5\n",
            "1/1 [==============================] - 1s 738ms/step - loss: 11.5048 - mae: 11.5048\n",
            "Epoch 2/5\n",
            "1/1 [==============================] - 0s 17ms/step - loss: 11.3723 - mae: 11.3723\n",
            "Epoch 3/5\n",
            "1/1 [==============================] - 0s 17ms/step - loss: 11.2398 - mae: 11.2398\n",
            "Epoch 4/5\n",
            "1/1 [==============================] - 0s 14ms/step - loss: 11.1073 - mae: 11.1073\n",
            "Epoch 5/5\n",
            "1/1 [==============================] - 0s 20ms/step - loss: 10.9748 - mae: 10.9748\n"
          ]
        },
        {
          "output_type": "execute_result",
          "data": {
            "text/plain": [
              "<keras.callbacks.History at 0x7fe80db14f50>"
            ]
          },
          "metadata": {},
          "execution_count": 6
        }
      ]
    },
    {
      "cell_type": "code",
      "source": [
        "# try to make a prediction\n",
        "model.predict([17.0])"
      ],
      "metadata": {
        "colab": {
          "base_uri": "https://localhost:8080/"
        },
        "id": "x1Q5yDoE5Lay",
        "outputId": "d25f00f8-13af-48e4-ea7c-70326db1bb60"
      },
      "execution_count": null,
      "outputs": [
        {
          "output_type": "execute_result",
          "data": {
            "text/plain": [
              "array([[12.716021]], dtype=float32)"
            ]
          },
          "metadata": {},
          "execution_count": 7
        }
      ]
    },
    {
      "cell_type": "markdown",
      "source": [
        "$$ Improving our model\n",
        "1. **Creating a model** - add more layers,\n",
        "increase the number ofg hidden units or neurons, \n",
        "change the activation function\n",
        "2. **compiling a model** - change the optimization function\n",
        "or \"LR\"\n",
        "3. **Fitting a model** - more epochs or more data"
      ],
      "metadata": {
        "id": "uMXjBBa9bwfI"
      }
    },
    {
      "cell_type": "code",
      "source": [
        "# rebuild the model\n",
        "\n",
        "# 1. create a model using sequential API\n",
        "model = tf.keras.Sequential([\n",
        "  tf.keras.layers.Dense(1)                            \n",
        "])\n",
        "\n",
        "#2 compile the model\n",
        "model.compile(loss = tf.keras.losses.mae,\n",
        "              optimizer = tf.keras.optimizers.SGD(),\n",
        "              metrics = [\"mae\"])\n",
        "\n",
        "# fit the model (train for longer)\n",
        "model.fit(tf.expand_dims(X,axis = -1),Y,epochs = 100)"
      ],
      "metadata": {
        "colab": {
          "base_uri": "https://localhost:8080/"
        },
        "id": "Kf-HY8pxdIv8",
        "outputId": "269d26a8-d8b3-44c8-a192-af47b423e24c"
      },
      "execution_count": null,
      "outputs": [
        {
          "output_type": "stream",
          "name": "stdout",
          "text": [
            "Epoch 1/100\n",
            "1/1 [==============================] - 1s 741ms/step - loss: 11.2219 - mae: 11.2219\n",
            "Epoch 2/100\n",
            "1/1 [==============================] - 0s 10ms/step - loss: 11.0894 - mae: 11.0894\n",
            "Epoch 3/100\n",
            "1/1 [==============================] - 0s 10ms/step - loss: 10.9569 - mae: 10.9569\n",
            "Epoch 4/100\n",
            "1/1 [==============================] - 0s 12ms/step - loss: 10.8244 - mae: 10.8244\n",
            "Epoch 5/100\n",
            "1/1 [==============================] - 0s 10ms/step - loss: 10.6919 - mae: 10.6919\n",
            "Epoch 6/100\n",
            "1/1 [==============================] - 0s 38ms/step - loss: 10.5594 - mae: 10.5594\n",
            "Epoch 7/100\n",
            "1/1 [==============================] - 0s 31ms/step - loss: 10.4269 - mae: 10.4269\n",
            "Epoch 8/100\n",
            "1/1 [==============================] - 0s 23ms/step - loss: 10.2944 - mae: 10.2944\n",
            "Epoch 9/100\n",
            "1/1 [==============================] - 0s 26ms/step - loss: 10.1619 - mae: 10.1619\n",
            "Epoch 10/100\n",
            "1/1 [==============================] - 0s 30ms/step - loss: 10.0294 - mae: 10.0294\n",
            "Epoch 11/100\n",
            "1/1 [==============================] - 0s 12ms/step - loss: 9.8969 - mae: 9.8969\n",
            "Epoch 12/100\n",
            "1/1 [==============================] - 0s 11ms/step - loss: 9.7644 - mae: 9.7644\n",
            "Epoch 13/100\n",
            "1/1 [==============================] - 0s 27ms/step - loss: 9.6319 - mae: 9.6319\n",
            "Epoch 14/100\n",
            "1/1 [==============================] - 0s 9ms/step - loss: 9.4994 - mae: 9.4994\n",
            "Epoch 15/100\n",
            "1/1 [==============================] - 0s 16ms/step - loss: 9.3669 - mae: 9.3669\n",
            "Epoch 16/100\n",
            "1/1 [==============================] - 0s 24ms/step - loss: 9.2344 - mae: 9.2344\n",
            "Epoch 17/100\n",
            "1/1 [==============================] - 0s 23ms/step - loss: 9.1019 - mae: 9.1019\n",
            "Epoch 18/100\n",
            "1/1 [==============================] - 0s 16ms/step - loss: 8.9694 - mae: 8.9694\n",
            "Epoch 19/100\n",
            "1/1 [==============================] - 0s 13ms/step - loss: 8.8369 - mae: 8.8369\n",
            "Epoch 20/100\n",
            "1/1 [==============================] - 0s 24ms/step - loss: 8.7044 - mae: 8.7044\n",
            "Epoch 21/100\n",
            "1/1 [==============================] - 0s 15ms/step - loss: 8.5719 - mae: 8.5719\n",
            "Epoch 22/100\n",
            "1/1 [==============================] - 0s 20ms/step - loss: 8.4394 - mae: 8.4394\n",
            "Epoch 23/100\n",
            "1/1 [==============================] - 0s 19ms/step - loss: 8.3069 - mae: 8.3069\n",
            "Epoch 24/100\n",
            "1/1 [==============================] - 0s 19ms/step - loss: 8.1744 - mae: 8.1744\n",
            "Epoch 25/100\n",
            "1/1 [==============================] - 0s 18ms/step - loss: 8.0419 - mae: 8.0419\n",
            "Epoch 26/100\n",
            "1/1 [==============================] - 0s 23ms/step - loss: 7.9094 - mae: 7.9094\n",
            "Epoch 27/100\n",
            "1/1 [==============================] - 0s 27ms/step - loss: 7.7769 - mae: 7.7769\n",
            "Epoch 28/100\n",
            "1/1 [==============================] - 0s 29ms/step - loss: 7.6444 - mae: 7.6444\n",
            "Epoch 29/100\n",
            "1/1 [==============================] - 0s 29ms/step - loss: 7.5119 - mae: 7.5119\n",
            "Epoch 30/100\n",
            "1/1 [==============================] - 0s 26ms/step - loss: 7.3794 - mae: 7.3794\n",
            "Epoch 31/100\n",
            "1/1 [==============================] - 0s 14ms/step - loss: 7.2750 - mae: 7.2750\n",
            "Epoch 32/100\n",
            "1/1 [==============================] - 0s 10ms/step - loss: 7.2694 - mae: 7.2694\n",
            "Epoch 33/100\n",
            "1/1 [==============================] - 0s 19ms/step - loss: 7.2638 - mae: 7.2638\n",
            "Epoch 34/100\n",
            "1/1 [==============================] - 0s 14ms/step - loss: 7.2581 - mae: 7.2581\n",
            "Epoch 35/100\n",
            "1/1 [==============================] - 0s 16ms/step - loss: 7.2525 - mae: 7.2525\n",
            "Epoch 36/100\n",
            "1/1 [==============================] - 0s 17ms/step - loss: 7.2469 - mae: 7.2469\n",
            "Epoch 37/100\n",
            "1/1 [==============================] - 0s 26ms/step - loss: 7.2412 - mae: 7.2412\n",
            "Epoch 38/100\n",
            "1/1 [==============================] - 0s 9ms/step - loss: 7.2356 - mae: 7.2356\n",
            "Epoch 39/100\n",
            "1/1 [==============================] - 0s 10ms/step - loss: 7.2300 - mae: 7.2300\n",
            "Epoch 40/100\n",
            "1/1 [==============================] - 0s 10ms/step - loss: 7.2244 - mae: 7.2244\n",
            "Epoch 41/100\n",
            "1/1 [==============================] - 0s 7ms/step - loss: 7.2188 - mae: 7.2188\n",
            "Epoch 42/100\n",
            "1/1 [==============================] - 0s 13ms/step - loss: 7.2131 - mae: 7.2131\n",
            "Epoch 43/100\n",
            "1/1 [==============================] - 0s 18ms/step - loss: 7.2075 - mae: 7.2075\n",
            "Epoch 44/100\n",
            "1/1 [==============================] - 0s 14ms/step - loss: 7.2019 - mae: 7.2019\n",
            "Epoch 45/100\n",
            "1/1 [==============================] - 0s 30ms/step - loss: 7.1962 - mae: 7.1962\n",
            "Epoch 46/100\n",
            "1/1 [==============================] - 0s 27ms/step - loss: 7.1906 - mae: 7.1906\n",
            "Epoch 47/100\n",
            "1/1 [==============================] - 0s 18ms/step - loss: 7.1850 - mae: 7.1850\n",
            "Epoch 48/100\n",
            "1/1 [==============================] - 0s 11ms/step - loss: 7.1794 - mae: 7.1794\n",
            "Epoch 49/100\n",
            "1/1 [==============================] - 0s 9ms/step - loss: 7.1737 - mae: 7.1737\n",
            "Epoch 50/100\n",
            "1/1 [==============================] - 0s 6ms/step - loss: 7.1681 - mae: 7.1681\n",
            "Epoch 51/100\n",
            "1/1 [==============================] - 0s 10ms/step - loss: 7.1625 - mae: 7.1625\n",
            "Epoch 52/100\n",
            "1/1 [==============================] - 0s 19ms/step - loss: 7.1569 - mae: 7.1569\n",
            "Epoch 53/100\n",
            "1/1 [==============================] - 0s 12ms/step - loss: 7.1512 - mae: 7.1512\n",
            "Epoch 54/100\n",
            "1/1 [==============================] - 0s 7ms/step - loss: 7.1456 - mae: 7.1456\n",
            "Epoch 55/100\n",
            "1/1 [==============================] - 0s 11ms/step - loss: 7.1400 - mae: 7.1400\n",
            "Epoch 56/100\n",
            "1/1 [==============================] - 0s 8ms/step - loss: 7.1344 - mae: 7.1344\n",
            "Epoch 57/100\n",
            "1/1 [==============================] - 0s 8ms/step - loss: 7.1287 - mae: 7.1287\n",
            "Epoch 58/100\n",
            "1/1 [==============================] - 0s 21ms/step - loss: 7.1231 - mae: 7.1231\n",
            "Epoch 59/100\n",
            "1/1 [==============================] - 0s 50ms/step - loss: 7.1175 - mae: 7.1175\n",
            "Epoch 60/100\n",
            "1/1 [==============================] - 0s 24ms/step - loss: 7.1119 - mae: 7.1119\n",
            "Epoch 61/100\n",
            "1/1 [==============================] - 0s 11ms/step - loss: 7.1062 - mae: 7.1062\n",
            "Epoch 62/100\n",
            "1/1 [==============================] - 0s 12ms/step - loss: 7.1006 - mae: 7.1006\n",
            "Epoch 63/100\n",
            "1/1 [==============================] - 0s 13ms/step - loss: 7.0950 - mae: 7.0950\n",
            "Epoch 64/100\n",
            "1/1 [==============================] - 0s 13ms/step - loss: 7.0894 - mae: 7.0894\n",
            "Epoch 65/100\n",
            "1/1 [==============================] - 0s 29ms/step - loss: 7.0838 - mae: 7.0838\n",
            "Epoch 66/100\n",
            "1/1 [==============================] - 0s 49ms/step - loss: 7.0781 - mae: 7.0781\n",
            "Epoch 67/100\n",
            "1/1 [==============================] - 0s 12ms/step - loss: 7.0725 - mae: 7.0725\n",
            "Epoch 68/100\n",
            "1/1 [==============================] - 0s 16ms/step - loss: 7.0669 - mae: 7.0669\n",
            "Epoch 69/100\n",
            "1/1 [==============================] - 0s 16ms/step - loss: 7.0613 - mae: 7.0613\n",
            "Epoch 70/100\n",
            "1/1 [==============================] - 0s 21ms/step - loss: 7.0556 - mae: 7.0556\n",
            "Epoch 71/100\n",
            "1/1 [==============================] - 0s 14ms/step - loss: 7.0500 - mae: 7.0500\n",
            "Epoch 72/100\n",
            "1/1 [==============================] - 0s 18ms/step - loss: 7.0444 - mae: 7.0444\n",
            "Epoch 73/100\n",
            "1/1 [==============================] - 0s 34ms/step - loss: 7.0388 - mae: 7.0388\n",
            "Epoch 74/100\n",
            "1/1 [==============================] - 0s 15ms/step - loss: 7.0331 - mae: 7.0331\n",
            "Epoch 75/100\n",
            "1/1 [==============================] - 0s 21ms/step - loss: 7.0275 - mae: 7.0275\n",
            "Epoch 76/100\n",
            "1/1 [==============================] - 0s 41ms/step - loss: 7.0219 - mae: 7.0219\n",
            "Epoch 77/100\n",
            "1/1 [==============================] - 0s 14ms/step - loss: 7.0163 - mae: 7.0163\n",
            "Epoch 78/100\n",
            "1/1 [==============================] - 0s 11ms/step - loss: 7.0106 - mae: 7.0106\n",
            "Epoch 79/100\n",
            "1/1 [==============================] - 0s 25ms/step - loss: 7.0050 - mae: 7.0050\n",
            "Epoch 80/100\n",
            "1/1 [==============================] - 0s 14ms/step - loss: 6.9994 - mae: 6.9994\n",
            "Epoch 81/100\n",
            "1/1 [==============================] - 0s 9ms/step - loss: 6.9938 - mae: 6.9938\n",
            "Epoch 82/100\n",
            "1/1 [==============================] - 0s 15ms/step - loss: 6.9881 - mae: 6.9881\n",
            "Epoch 83/100\n",
            "1/1 [==============================] - 0s 26ms/step - loss: 6.9825 - mae: 6.9825\n",
            "Epoch 84/100\n",
            "1/1 [==============================] - 0s 13ms/step - loss: 6.9769 - mae: 6.9769\n",
            "Epoch 85/100\n",
            "1/1 [==============================] - 0s 21ms/step - loss: 6.9713 - mae: 6.9713\n",
            "Epoch 86/100\n",
            "1/1 [==============================] - 0s 13ms/step - loss: 6.9656 - mae: 6.9656\n",
            "Epoch 87/100\n",
            "1/1 [==============================] - 0s 18ms/step - loss: 6.9600 - mae: 6.9600\n",
            "Epoch 88/100\n",
            "1/1 [==============================] - 0s 15ms/step - loss: 6.9544 - mae: 6.9544\n",
            "Epoch 89/100\n",
            "1/1 [==============================] - 0s 29ms/step - loss: 6.9488 - mae: 6.9488\n",
            "Epoch 90/100\n",
            "1/1 [==============================] - 0s 15ms/step - loss: 6.9431 - mae: 6.9431\n",
            "Epoch 91/100\n",
            "1/1 [==============================] - 0s 13ms/step - loss: 6.9375 - mae: 6.9375\n",
            "Epoch 92/100\n",
            "1/1 [==============================] - 0s 33ms/step - loss: 6.9319 - mae: 6.9319\n",
            "Epoch 93/100\n",
            "1/1 [==============================] - 0s 14ms/step - loss: 6.9263 - mae: 6.9263\n",
            "Epoch 94/100\n",
            "1/1 [==============================] - 0s 13ms/step - loss: 6.9206 - mae: 6.9206\n",
            "Epoch 95/100\n",
            "1/1 [==============================] - 0s 19ms/step - loss: 6.9150 - mae: 6.9150\n",
            "Epoch 96/100\n",
            "1/1 [==============================] - 0s 10ms/step - loss: 6.9094 - mae: 6.9094\n",
            "Epoch 97/100\n",
            "1/1 [==============================] - 0s 12ms/step - loss: 6.9038 - mae: 6.9038\n",
            "Epoch 98/100\n",
            "1/1 [==============================] - 0s 26ms/step - loss: 6.8981 - mae: 6.8981\n",
            "Epoch 99/100\n",
            "1/1 [==============================] - 0s 11ms/step - loss: 6.8925 - mae: 6.8925\n",
            "Epoch 100/100\n",
            "1/1 [==============================] - 0s 10ms/step - loss: 6.8869 - mae: 6.8869\n"
          ]
        },
        {
          "output_type": "execute_result",
          "data": {
            "text/plain": [
              "<keras.callbacks.History at 0x7fe80d9a3090>"
            ]
          },
          "metadata": {},
          "execution_count": 8
        }
      ]
    },
    {
      "cell_type": "code",
      "source": [
        "model.predict([17])"
      ],
      "metadata": {
        "colab": {
          "base_uri": "https://localhost:8080/"
        },
        "id": "kqxn7RPfd1oO",
        "outputId": "28b020c8-4da3-4adc-ea35-43bef5318dcd"
      },
      "execution_count": null,
      "outputs": [
        {
          "output_type": "execute_result",
          "data": {
            "text/plain": [
              "array([[29.739855]], dtype=float32)"
            ]
          },
          "metadata": {},
          "execution_count": 9
        }
      ]
    },
    {
      "cell_type": "code",
      "source": [
        "# another model\n",
        "model = tf.keras.Sequential([\n",
        "  tf.keras.layers.Dense(50,activation = \"relu\"),\n",
        "  tf.keras.layers.Dense(1)                            \n",
        "])\n",
        "\n",
        "model.compile(loss=tf.keras.losses.MAE,\n",
        "       optimizer=tf.keras.optimizers.Adam(lr = 0.1),\n",
        "       metrics = [\"mae\"]\n",
        ")\n",
        "model.fit(tf.expand_dims(X,axis = -1),Y,epochs = 100)"
      ],
      "metadata": {
        "colab": {
          "base_uri": "https://localhost:8080/"
        },
        "id": "tXZZoEl3eJtV",
        "outputId": "d1bbe8a6-4a26-413d-cacc-42d9556a835d"
      },
      "execution_count": null,
      "outputs": [
        {
          "output_type": "stream",
          "name": "stdout",
          "text": [
            "Epoch 1/100\n"
          ]
        },
        {
          "output_type": "stream",
          "name": "stderr",
          "text": [
            "/usr/local/lib/python3.7/dist-packages/keras/optimizer_v2/adam.py:105: UserWarning: The `lr` argument is deprecated, use `learning_rate` instead.\n",
            "  super(Adam, self).__init__(name, **kwargs)\n"
          ]
        },
        {
          "output_type": "stream",
          "name": "stdout",
          "text": [
            "1/1 [==============================] - 1s 1s/step - loss: 12.1311 - mae: 12.1311\n",
            "Epoch 2/100\n",
            "1/1 [==============================] - 0s 15ms/step - loss: 7.4378 - mae: 7.4378\n",
            "Epoch 3/100\n",
            "1/1 [==============================] - 0s 19ms/step - loss: 4.0332 - mae: 4.0332\n",
            "Epoch 4/100\n",
            "1/1 [==============================] - 0s 17ms/step - loss: 6.1711 - mae: 6.1711\n",
            "Epoch 5/100\n",
            "1/1 [==============================] - 0s 11ms/step - loss: 5.2231 - mae: 5.2231\n",
            "Epoch 6/100\n",
            "1/1 [==============================] - 0s 16ms/step - loss: 3.6593 - mae: 3.6593\n",
            "Epoch 7/100\n",
            "1/1 [==============================] - 0s 17ms/step - loss: 3.4330 - mae: 3.4330\n",
            "Epoch 8/100\n",
            "1/1 [==============================] - 0s 43ms/step - loss: 3.0846 - mae: 3.0846\n",
            "Epoch 9/100\n",
            "1/1 [==============================] - 0s 31ms/step - loss: 3.1236 - mae: 3.1236\n",
            "Epoch 10/100\n",
            "1/1 [==============================] - 0s 18ms/step - loss: 3.0096 - mae: 3.0096\n",
            "Epoch 11/100\n",
            "1/1 [==============================] - 0s 13ms/step - loss: 2.3455 - mae: 2.3455\n",
            "Epoch 12/100\n",
            "1/1 [==============================] - 0s 16ms/step - loss: 2.0405 - mae: 2.0405\n",
            "Epoch 13/100\n",
            "1/1 [==============================] - 0s 17ms/step - loss: 1.7842 - mae: 1.7842\n",
            "Epoch 14/100\n",
            "1/1 [==============================] - 0s 10ms/step - loss: 2.2667 - mae: 2.2667\n",
            "Epoch 15/100\n",
            "1/1 [==============================] - 0s 11ms/step - loss: 2.0137 - mae: 2.0137\n",
            "Epoch 16/100\n",
            "1/1 [==============================] - 0s 11ms/step - loss: 0.5710 - mae: 0.5710\n",
            "Epoch 17/100\n",
            "1/1 [==============================] - 0s 12ms/step - loss: 1.0706 - mae: 1.0706\n",
            "Epoch 18/100\n",
            "1/1 [==============================] - 0s 10ms/step - loss: 0.6453 - mae: 0.6453\n",
            "Epoch 19/100\n",
            "1/1 [==============================] - 0s 15ms/step - loss: 0.7456 - mae: 0.7456\n",
            "Epoch 20/100\n",
            "1/1 [==============================] - 0s 18ms/step - loss: 0.6467 - mae: 0.6467\n",
            "Epoch 21/100\n",
            "1/1 [==============================] - 0s 17ms/step - loss: 1.4574 - mae: 1.4574\n",
            "Epoch 22/100\n",
            "1/1 [==============================] - 0s 17ms/step - loss: 1.0783 - mae: 1.0783\n",
            "Epoch 23/100\n",
            "1/1 [==============================] - 0s 17ms/step - loss: 1.1928 - mae: 1.1928\n",
            "Epoch 24/100\n",
            "1/1 [==============================] - 0s 14ms/step - loss: 1.5018 - mae: 1.5018\n",
            "Epoch 25/100\n",
            "1/1 [==============================] - 0s 11ms/step - loss: 0.8696 - mae: 0.8696\n",
            "Epoch 26/100\n",
            "1/1 [==============================] - 0s 17ms/step - loss: 1.0808 - mae: 1.0808\n",
            "Epoch 27/100\n",
            "1/1 [==============================] - 0s 18ms/step - loss: 1.2117 - mae: 1.2117\n",
            "Epoch 28/100\n",
            "1/1 [==============================] - 0s 34ms/step - loss: 0.2255 - mae: 0.2255\n",
            "Epoch 29/100\n",
            "1/1 [==============================] - 0s 18ms/step - loss: 1.5180 - mae: 1.5180\n",
            "Epoch 30/100\n",
            "1/1 [==============================] - 0s 24ms/step - loss: 2.0560 - mae: 2.0560\n",
            "Epoch 31/100\n",
            "1/1 [==============================] - 0s 32ms/step - loss: 1.4551 - mae: 1.4551\n",
            "Epoch 32/100\n",
            "1/1 [==============================] - 0s 20ms/step - loss: 0.2362 - mae: 0.2362\n",
            "Epoch 33/100\n",
            "1/1 [==============================] - 0s 15ms/step - loss: 1.1746 - mae: 1.1746\n",
            "Epoch 34/100\n",
            "1/1 [==============================] - 0s 19ms/step - loss: 0.8305 - mae: 0.8305\n",
            "Epoch 35/100\n",
            "1/1 [==============================] - 0s 14ms/step - loss: 0.6783 - mae: 0.6783\n",
            "Epoch 36/100\n",
            "1/1 [==============================] - 0s 21ms/step - loss: 0.9652 - mae: 0.9652\n",
            "Epoch 37/100\n",
            "1/1 [==============================] - 0s 23ms/step - loss: 0.2979 - mae: 0.2979\n",
            "Epoch 38/100\n",
            "1/1 [==============================] - 0s 21ms/step - loss: 0.6266 - mae: 0.6266\n",
            "Epoch 39/100\n",
            "1/1 [==============================] - 0s 15ms/step - loss: 0.2500 - mae: 0.2500\n",
            "Epoch 40/100\n",
            "1/1 [==============================] - 0s 16ms/step - loss: 1.1372 - mae: 1.1372\n",
            "Epoch 41/100\n",
            "1/1 [==============================] - 0s 18ms/step - loss: 1.3712 - mae: 1.3712\n",
            "Epoch 42/100\n",
            "1/1 [==============================] - 0s 16ms/step - loss: 0.8465 - mae: 0.8465\n",
            "Epoch 43/100\n",
            "1/1 [==============================] - 0s 16ms/step - loss: 0.6942 - mae: 0.6942\n",
            "Epoch 44/100\n",
            "1/1 [==============================] - 0s 12ms/step - loss: 0.9332 - mae: 0.9332\n",
            "Epoch 45/100\n",
            "1/1 [==============================] - 0s 12ms/step - loss: 0.2167 - mae: 0.2167\n",
            "Epoch 46/100\n",
            "1/1 [==============================] - 0s 22ms/step - loss: 0.1702 - mae: 0.1702\n",
            "Epoch 47/100\n",
            "1/1 [==============================] - 0s 21ms/step - loss: 0.3383 - mae: 0.3383\n",
            "Epoch 48/100\n",
            "1/1 [==============================] - 0s 17ms/step - loss: 0.2974 - mae: 0.2974\n",
            "Epoch 49/100\n",
            "1/1 [==============================] - 0s 19ms/step - loss: 0.2392 - mae: 0.2392\n",
            "Epoch 50/100\n",
            "1/1 [==============================] - 0s 15ms/step - loss: 0.4190 - mae: 0.4190\n",
            "Epoch 51/100\n",
            "1/1 [==============================] - 0s 15ms/step - loss: 0.2593 - mae: 0.2593\n",
            "Epoch 52/100\n",
            "1/1 [==============================] - 0s 23ms/step - loss: 0.5559 - mae: 0.5559\n",
            "Epoch 53/100\n",
            "1/1 [==============================] - 0s 34ms/step - loss: 0.1428 - mae: 0.1428\n",
            "Epoch 54/100\n",
            "1/1 [==============================] - 0s 10ms/step - loss: 0.7694 - mae: 0.7694\n",
            "Epoch 55/100\n",
            "1/1 [==============================] - 0s 12ms/step - loss: 0.4428 - mae: 0.4428\n",
            "Epoch 56/100\n",
            "1/1 [==============================] - 0s 11ms/step - loss: 0.9102 - mae: 0.9102\n",
            "Epoch 57/100\n",
            "1/1 [==============================] - 0s 10ms/step - loss: 1.1280 - mae: 1.1280\n",
            "Epoch 58/100\n",
            "1/1 [==============================] - 0s 13ms/step - loss: 0.5800 - mae: 0.5800\n",
            "Epoch 59/100\n",
            "1/1 [==============================] - 0s 11ms/step - loss: 0.9227 - mae: 0.9227\n",
            "Epoch 60/100\n",
            "1/1 [==============================] - 0s 13ms/step - loss: 1.1242 - mae: 1.1242\n",
            "Epoch 61/100\n",
            "1/1 [==============================] - 0s 12ms/step - loss: 0.4601 - mae: 0.4601\n",
            "Epoch 62/100\n",
            "1/1 [==============================] - 0s 12ms/step - loss: 1.1835 - mae: 1.1835\n",
            "Epoch 63/100\n",
            "1/1 [==============================] - 0s 13ms/step - loss: 1.6440 - mae: 1.6440\n",
            "Epoch 64/100\n",
            "1/1 [==============================] - 0s 12ms/step - loss: 1.3510 - mae: 1.3510\n",
            "Epoch 65/100\n",
            "1/1 [==============================] - 0s 17ms/step - loss: 0.3098 - mae: 0.3098\n",
            "Epoch 66/100\n",
            "1/1 [==============================] - 0s 13ms/step - loss: 1.6163 - mae: 1.6163\n",
            "Epoch 67/100\n",
            "1/1 [==============================] - 0s 13ms/step - loss: 2.4909 - mae: 2.4909\n",
            "Epoch 68/100\n",
            "1/1 [==============================] - 0s 11ms/step - loss: 2.1748 - mae: 2.1748\n",
            "Epoch 69/100\n",
            "1/1 [==============================] - 0s 17ms/step - loss: 0.8636 - mae: 0.8636\n",
            "Epoch 70/100\n",
            "1/1 [==============================] - 0s 15ms/step - loss: 1.1045 - mae: 1.1045\n",
            "Epoch 71/100\n",
            "1/1 [==============================] - 0s 22ms/step - loss: 1.9439 - mae: 1.9439\n",
            "Epoch 72/100\n",
            "1/1 [==============================] - 0s 29ms/step - loss: 1.9720 - mae: 1.9720\n",
            "Epoch 73/100\n",
            "1/1 [==============================] - 0s 21ms/step - loss: 1.2782 - mae: 1.2782\n",
            "Epoch 74/100\n",
            "1/1 [==============================] - 0s 24ms/step - loss: 0.2848 - mae: 0.2848\n",
            "Epoch 75/100\n",
            "1/1 [==============================] - 0s 24ms/step - loss: 0.8683 - mae: 0.8683\n",
            "Epoch 76/100\n",
            "1/1 [==============================] - 0s 22ms/step - loss: 0.7557 - mae: 0.7557\n",
            "Epoch 77/100\n",
            "1/1 [==============================] - 0s 33ms/step - loss: 0.5890 - mae: 0.5890\n",
            "Epoch 78/100\n",
            "1/1 [==============================] - 0s 25ms/step - loss: 0.6352 - mae: 0.6352\n",
            "Epoch 79/100\n",
            "1/1 [==============================] - 0s 25ms/step - loss: 0.2446 - mae: 0.2446\n",
            "Epoch 80/100\n",
            "1/1 [==============================] - 0s 14ms/step - loss: 0.6867 - mae: 0.6867\n",
            "Epoch 81/100\n",
            "1/1 [==============================] - 0s 16ms/step - loss: 0.2326 - mae: 0.2326\n",
            "Epoch 82/100\n",
            "1/1 [==============================] - 0s 26ms/step - loss: 1.0462 - mae: 1.0462\n",
            "Epoch 83/100\n",
            "1/1 [==============================] - 0s 13ms/step - loss: 1.3455 - mae: 1.3455\n",
            "Epoch 84/100\n",
            "1/1 [==============================] - 0s 18ms/step - loss: 0.8499 - mae: 0.8499\n",
            "Epoch 85/100\n",
            "1/1 [==============================] - 0s 13ms/step - loss: 0.4700 - mae: 0.4700\n",
            "Epoch 86/100\n",
            "1/1 [==============================] - 0s 10ms/step - loss: 0.7461 - mae: 0.7461\n",
            "Epoch 87/100\n",
            "1/1 [==============================] - 0s 15ms/step - loss: 0.1651 - mae: 0.1651\n",
            "Epoch 88/100\n",
            "1/1 [==============================] - 0s 13ms/step - loss: 0.4612 - mae: 0.4612\n",
            "Epoch 89/100\n",
            "1/1 [==============================] - 0s 20ms/step - loss: 0.2306 - mae: 0.2306\n",
            "Epoch 90/100\n",
            "1/1 [==============================] - 0s 20ms/step - loss: 0.8776 - mae: 0.8776\n",
            "Epoch 91/100\n",
            "1/1 [==============================] - 0s 20ms/step - loss: 0.9194 - mae: 0.9194\n",
            "Epoch 92/100\n",
            "1/1 [==============================] - 0s 12ms/step - loss: 0.3611 - mae: 0.3611\n",
            "Epoch 93/100\n",
            "1/1 [==============================] - 0s 14ms/step - loss: 0.9242 - mae: 0.9242\n",
            "Epoch 94/100\n",
            "1/1 [==============================] - 0s 14ms/step - loss: 1.0446 - mae: 1.0446\n",
            "Epoch 95/100\n",
            "1/1 [==============================] - 0s 16ms/step - loss: 0.4981 - mae: 0.4981\n",
            "Epoch 96/100\n",
            "1/1 [==============================] - 0s 26ms/step - loss: 1.1092 - mae: 1.1092\n",
            "Epoch 97/100\n",
            "1/1 [==============================] - 0s 13ms/step - loss: 1.3865 - mae: 1.3865\n",
            "Epoch 98/100\n",
            "1/1 [==============================] - 0s 18ms/step - loss: 0.9059 - mae: 0.9059\n",
            "Epoch 99/100\n",
            "1/1 [==============================] - 0s 27ms/step - loss: 0.4490 - mae: 0.4490\n",
            "Epoch 100/100\n",
            "1/1 [==============================] - 0s 16ms/step - loss: 0.7531 - mae: 0.7531\n"
          ]
        },
        {
          "output_type": "execute_result",
          "data": {
            "text/plain": [
              "<keras.callbacks.History at 0x7fe80d8c1d90>"
            ]
          },
          "metadata": {},
          "execution_count": 10
        }
      ]
    },
    {
      "cell_type": "code",
      "source": [
        "model.predict([17])"
      ],
      "metadata": {
        "colab": {
          "base_uri": "https://localhost:8080/"
        },
        "id": "YVkuP78-f3Cc",
        "outputId": "9b411a48-e412-4fda-cd7c-555f7eac1d02"
      },
      "execution_count": null,
      "outputs": [
        {
          "output_type": "execute_result",
          "data": {
            "text/plain": [
              "array([[26.383595]], dtype=float32)"
            ]
          },
          "metadata": {},
          "execution_count": 11
        }
      ]
    },
    {
      "cell_type": "markdown",
      "source": [
        "### Evaluating a model (visualize)\n",
        "* the data\n",
        "* the model it self\n",
        "* the t raining of a model\n",
        "* prediction of the model"
      ],
      "metadata": {
        "id": "vBY9t1tchcAF"
      }
    },
    {
      "cell_type": "code",
      "source": [
        "# make a larger dataset\n",
        "X = tf.range(-100,100,4)\n",
        "Y = X+10\n",
        "X, Y"
      ],
      "metadata": {
        "colab": {
          "base_uri": "https://localhost:8080/"
        },
        "id": "ojRQUrx9hlfD",
        "outputId": "389d21ec-876b-4a6e-9e6a-70994562b2d4"
      },
      "execution_count": null,
      "outputs": [
        {
          "output_type": "execute_result",
          "data": {
            "text/plain": [
              "(<tf.Tensor: shape=(50,), dtype=int32, numpy=\n",
              " array([-100,  -96,  -92,  -88,  -84,  -80,  -76,  -72,  -68,  -64,  -60,\n",
              "         -56,  -52,  -48,  -44,  -40,  -36,  -32,  -28,  -24,  -20,  -16,\n",
              "         -12,   -8,   -4,    0,    4,    8,   12,   16,   20,   24,   28,\n",
              "          32,   36,   40,   44,   48,   52,   56,   60,   64,   68,   72,\n",
              "          76,   80,   84,   88,   92,   96], dtype=int32)>,\n",
              " <tf.Tensor: shape=(50,), dtype=int32, numpy=\n",
              " array([-90, -86, -82, -78, -74, -70, -66, -62, -58, -54, -50, -46, -42,\n",
              "        -38, -34, -30, -26, -22, -18, -14, -10,  -6,  -2,   2,   6,  10,\n",
              "         14,  18,  22,  26,  30,  34,  38,  42,  46,  50,  54,  58,  62,\n",
              "         66,  70,  74,  78,  82,  86,  90,  94,  98, 102, 106], dtype=int32)>)"
            ]
          },
          "metadata": {},
          "execution_count": 12
        }
      ]
    },
    {
      "cell_type": "code",
      "source": [
        "# visualize the plot\n",
        "plt.scatter(X,Y)"
      ],
      "metadata": {
        "colab": {
          "base_uri": "https://localhost:8080/"
        },
        "id": "cj-hZ7_AiBNr",
        "outputId": "476494a9-5107-474d-e3b5-acfcdd8328b5"
      },
      "execution_count": null,
      "outputs": [
        {
          "output_type": "execute_result",
          "data": {
            "text/plain": [
              "<matplotlib.collections.PathCollection at 0x7fe80ca74bd0>"
            ]
          },
          "metadata": {},
          "execution_count": 13
        },
        {
          "output_type": "display_data",
          "data": {
            "text/plain": [
              "<Figure size 432x288 with 1 Axes>"
            ],
            "image/png": "[encoded data removed]"
          },
          "metadata": {
            "needs_background": "light"
          }
        }
      ]
    },
    {
      "cell_type": "markdown",
      "source": [
        "### the 3 sets:\n",
        "* training set : 70-80% of the total data\n",
        "* validation set : 10-15%\n",
        "* test set : 10-15%"
      ],
      "metadata": {
        "id": "InxYlRVniRrc"
      }
    },
    {
      "cell_type": "code",
      "source": [
        "# split the data into training and testing\n",
        "X_train = X[:40]\n",
        "X_test = X[40:]\n",
        "\n",
        "Y_train = Y[:40]\n",
        "Y_test = Y[40:]"
      ],
      "metadata": {
        "id": "rLOzD0B_irPM"
      },
      "execution_count": null,
      "outputs": []
    },
    {
      "cell_type": "code",
      "source": [
        "plt.figure(figsize = (10,7))\n",
        "# plot training data in blue\n",
        "plt.scatter(X_train,Y_train,c=\"b\",label = \"Training data\")\n",
        "# plot test data in green\n",
        "plt.scatter(X_test,Y_test,c=\"g\",label = \"Testing data\")\n",
        "plt.legend();"
      ],
      "metadata": {
        "colab": {
          "base_uri": "https://localhost:8080/",
          "height": 428
        },
        "id": "R-xr9UHxjFuX",
        "outputId": "d9b19b99-d691-4d23-f431-ff71bd9d72ce"
      },
      "execution_count": null,
      "outputs": [
        {
          "output_type": "display_data",
          "data": {
            "text/plain": [
              "<Figure size 720x504 with 1 Axes>"
            ],
            "image/png": "[encoded data removed]"
          },
          "metadata": {
            "needs_background": "light"
          }
        }
      ]
    },
    {
      "cell_type": "code",
      "source": [
        "model = tf.keras.Sequential([\n",
        "                             tf.keras.layers.Dense(1)\n",
        "])\n",
        "\n",
        "model.compile(loss=tf.keras.losses.mae,\n",
        "              optimizer = tf.keras.optimizers.Adam(lr = 0.1),\n",
        "              metrics = [\"mae\"])\n",
        "\n",
        "model.fit(tf.expand_dims(X_train,axis = -1),Y_train,epochs = 100)\n"
      ],
      "metadata": {
        "colab": {
          "base_uri": "https://localhost:8080/"
        },
        "id": "aZsUpHrVuAjt",
        "outputId": "02b5852b-2da7-4c03-eebf-78883d77e45f"
      },
      "execution_count": null,
      "outputs": [
        {
          "output_type": "stream",
          "name": "stdout",
          "text": [
            "Epoch 1/100\n"
          ]
        },
        {
          "output_type": "stream",
          "name": "stderr",
          "text": [
            "/usr/local/lib/python3.7/dist-packages/keras/optimizer_v2/adam.py:105: UserWarning: The `lr` argument is deprecated, use `learning_rate` instead.\n",
            "  super(Adam, self).__init__(name, **kwargs)\n"
          ]
        },
        {
          "output_type": "stream",
          "name": "stdout",
          "text": [
            "2/2 [==============================] - 1s 12ms/step - loss: 10.6436 - mae: 10.6436\n",
            "Epoch 2/100\n",
            "2/2 [==============================] - 0s 16ms/step - loss: 7.7546 - mae: 7.7546\n",
            "Epoch 3/100\n",
            "2/2 [==============================] - 0s 10ms/step - loss: 8.4358 - mae: 8.4358\n",
            "Epoch 4/100\n",
            "2/2 [==============================] - 0s 30ms/step - loss: 7.2972 - mae: 7.2972\n",
            "Epoch 5/100\n",
            "2/2 [==============================] - 0s 13ms/step - loss: 7.9495 - mae: 7.9495\n",
            "Epoch 6/100\n",
            "2/2 [==============================] - 0s 13ms/step - loss: 8.4349 - mae: 8.4349\n",
            "Epoch 7/100\n",
            "2/2 [==============================] - 0s 20ms/step - loss: 7.6397 - mae: 7.6397\n",
            "Epoch 8/100\n",
            "2/2 [==============================] - 0s 8ms/step - loss: 7.0277 - mae: 7.0277\n",
            "Epoch 9/100\n",
            "2/2 [==============================] - 0s 7ms/step - loss: 6.9798 - mae: 6.9798\n",
            "Epoch 10/100\n",
            "2/2 [==============================] - 0s 18ms/step - loss: 6.2327 - mae: 6.2327\n",
            "Epoch 11/100\n",
            "2/2 [==============================] - 0s 10ms/step - loss: 7.1470 - mae: 7.1470\n",
            "Epoch 12/100\n",
            "2/2 [==============================] - 0s 8ms/step - loss: 7.1051 - mae: 7.1051\n",
            "Epoch 13/100\n",
            "2/2 [==============================] - 0s 10ms/step - loss: 6.1262 - mae: 6.1262\n",
            "Epoch 14/100\n",
            "2/2 [==============================] - 0s 17ms/step - loss: 6.1214 - mae: 6.1214\n",
            "Epoch 15/100\n",
            "2/2 [==============================] - 0s 19ms/step - loss: 6.0759 - mae: 6.0759\n",
            "Epoch 16/100\n",
            "2/2 [==============================] - 0s 21ms/step - loss: 5.6066 - mae: 5.6066\n",
            "Epoch 17/100\n",
            "2/2 [==============================] - 0s 17ms/step - loss: 5.4160 - mae: 5.4160\n",
            "Epoch 18/100\n",
            "2/2 [==============================] - 0s 13ms/step - loss: 5.1879 - mae: 5.1879\n",
            "Epoch 19/100\n",
            "2/2 [==============================] - 0s 7ms/step - loss: 5.1257 - mae: 5.1257\n",
            "Epoch 20/100\n",
            "2/2 [==============================] - 0s 9ms/step - loss: 5.0769 - mae: 5.0769\n",
            "Epoch 21/100\n",
            "2/2 [==============================] - 0s 7ms/step - loss: 4.8170 - mae: 4.8170\n",
            "Epoch 22/100\n",
            "2/2 [==============================] - 0s 8ms/step - loss: 4.7312 - mae: 4.7312\n",
            "Epoch 23/100\n",
            "2/2 [==============================] - 0s 12ms/step - loss: 4.5022 - mae: 4.5022\n",
            "Epoch 24/100\n",
            "2/2 [==============================] - 0s 14ms/step - loss: 4.4775 - mae: 4.4775\n",
            "Epoch 25/100\n",
            "2/2 [==============================] - 0s 15ms/step - loss: 4.2652 - mae: 4.2652\n",
            "Epoch 26/100\n",
            "2/2 [==============================] - 0s 24ms/step - loss: 4.1681 - mae: 4.1681\n",
            "Epoch 27/100\n",
            "2/2 [==============================] - 0s 11ms/step - loss: 3.9259 - mae: 3.9259\n",
            "Epoch 28/100\n",
            "2/2 [==============================] - 0s 21ms/step - loss: 3.8870 - mae: 3.8870\n",
            "Epoch 29/100\n",
            "2/2 [==============================] - 0s 28ms/step - loss: 3.6558 - mae: 3.6558\n",
            "Epoch 30/100\n",
            "2/2 [==============================] - 0s 22ms/step - loss: 3.6656 - mae: 3.6656\n",
            "Epoch 31/100\n",
            "2/2 [==============================] - 0s 13ms/step - loss: 3.3716 - mae: 3.3716\n",
            "Epoch 32/100\n",
            "2/2 [==============================] - 0s 17ms/step - loss: 3.5450 - mae: 3.5450\n",
            "Epoch 33/100\n",
            "2/2 [==============================] - 0s 19ms/step - loss: 3.1359 - mae: 3.1359\n",
            "Epoch 34/100\n",
            "2/2 [==============================] - 0s 24ms/step - loss: 3.0624 - mae: 3.0624\n",
            "Epoch 35/100\n",
            "2/2 [==============================] - 0s 10ms/step - loss: 3.0107 - mae: 3.0107\n",
            "Epoch 36/100\n",
            "2/2 [==============================] - 0s 8ms/step - loss: 2.8749 - mae: 2.8749\n",
            "Epoch 37/100\n",
            "2/2 [==============================] - 0s 10ms/step - loss: 2.6252 - mae: 2.6252\n",
            "Epoch 38/100\n",
            "2/2 [==============================] - 0s 11ms/step - loss: 2.4373 - mae: 2.4373\n",
            "Epoch 39/100\n",
            "2/2 [==============================] - 0s 24ms/step - loss: 2.3509 - mae: 2.3509\n",
            "Epoch 40/100\n",
            "2/2 [==============================] - 0s 8ms/step - loss: 2.1293 - mae: 2.1293\n",
            "Epoch 41/100\n",
            "2/2 [==============================] - 0s 8ms/step - loss: 2.0979 - mae: 2.0979\n",
            "Epoch 42/100\n",
            "2/2 [==============================] - 0s 18ms/step - loss: 1.8432 - mae: 1.8432\n",
            "Epoch 43/100\n",
            "2/2 [==============================] - 0s 8ms/step - loss: 1.7310 - mae: 1.7310\n",
            "Epoch 44/100\n",
            "2/2 [==============================] - 0s 7ms/step - loss: 1.5723 - mae: 1.5723\n",
            "Epoch 45/100\n",
            "2/2 [==============================] - 0s 7ms/step - loss: 1.4984 - mae: 1.4984\n",
            "Epoch 46/100\n",
            "2/2 [==============================] - 0s 8ms/step - loss: 1.3043 - mae: 1.3043\n",
            "Epoch 47/100\n",
            "2/2 [==============================] - 0s 7ms/step - loss: 1.4442 - mae: 1.4442\n",
            "Epoch 48/100\n",
            "2/2 [==============================] - 0s 7ms/step - loss: 1.0026 - mae: 1.0026\n",
            "Epoch 49/100\n",
            "2/2 [==============================] - 0s 7ms/step - loss: 0.9627 - mae: 0.9627\n",
            "Epoch 50/100\n",
            "2/2 [==============================] - 0s 7ms/step - loss: 0.8125 - mae: 0.8125\n",
            "Epoch 51/100\n",
            "2/2 [==============================] - 0s 7ms/step - loss: 0.8040 - mae: 0.8040\n",
            "Epoch 52/100\n",
            "2/2 [==============================] - 0s 7ms/step - loss: 1.1912 - mae: 1.1912\n",
            "Epoch 53/100\n",
            "2/2 [==============================] - 0s 7ms/step - loss: 0.7397 - mae: 0.7397\n",
            "Epoch 54/100\n",
            "2/2 [==============================] - 0s 17ms/step - loss: 0.2988 - mae: 0.2988\n",
            "Epoch 55/100\n",
            "2/2 [==============================] - 0s 10ms/step - loss: 0.0839 - mae: 0.0839\n",
            "Epoch 56/100\n",
            "2/2 [==============================] - 0s 10ms/step - loss: 0.4612 - mae: 0.4612\n",
            "Epoch 57/100\n",
            "2/2 [==============================] - 0s 7ms/step - loss: 0.6995 - mae: 0.6995\n",
            "Epoch 58/100\n",
            "2/2 [==============================] - 0s 21ms/step - loss: 0.3787 - mae: 0.3787\n",
            "Epoch 59/100\n",
            "2/2 [==============================] - 0s 10ms/step - loss: 1.2522 - mae: 1.2522\n",
            "Epoch 60/100\n",
            "2/2 [==============================] - 0s 9ms/step - loss: 0.3305 - mae: 0.3305\n",
            "Epoch 61/100\n",
            "2/2 [==============================] - 0s 9ms/step - loss: 0.5016 - mae: 0.5016\n",
            "Epoch 62/100\n",
            "2/2 [==============================] - 0s 14ms/step - loss: 0.4985 - mae: 0.4985\n",
            "Epoch 63/100\n",
            "2/2 [==============================] - 0s 20ms/step - loss: 0.7933 - mae: 0.7933\n",
            "Epoch 64/100\n",
            "2/2 [==============================] - 0s 17ms/step - loss: 0.3110 - mae: 0.3110\n",
            "Epoch 65/100\n",
            "2/2 [==============================] - 0s 15ms/step - loss: 0.9993 - mae: 0.9993\n",
            "Epoch 66/100\n",
            "2/2 [==============================] - 0s 12ms/step - loss: 0.7399 - mae: 0.7399\n",
            "Epoch 67/100\n",
            "2/2 [==============================] - 0s 16ms/step - loss: 0.6272 - mae: 0.6272\n",
            "Epoch 68/100\n",
            "2/2 [==============================] - 0s 15ms/step - loss: 0.4948 - mae: 0.4948\n",
            "Epoch 69/100\n",
            "2/2 [==============================] - 0s 15ms/step - loss: 0.9628 - mae: 0.9628\n",
            "Epoch 70/100\n",
            "2/2 [==============================] - 0s 18ms/step - loss: 0.7168 - mae: 0.7168\n",
            "Epoch 71/100\n",
            "2/2 [==============================] - 0s 17ms/step - loss: 0.3253 - mae: 0.3253\n",
            "Epoch 72/100\n",
            "2/2 [==============================] - 0s 9ms/step - loss: 0.2142 - mae: 0.2142\n",
            "Epoch 73/100\n",
            "2/2 [==============================] - 0s 22ms/step - loss: 0.1891 - mae: 0.1891\n",
            "Epoch 74/100\n",
            "2/2 [==============================] - 0s 15ms/step - loss: 0.2896 - mae: 0.2896\n",
            "Epoch 75/100\n",
            "2/2 [==============================] - 0s 12ms/step - loss: 1.0932 - mae: 1.0932\n",
            "Epoch 76/100\n",
            "2/2 [==============================] - 0s 8ms/step - loss: 0.2204 - mae: 0.2204\n",
            "Epoch 77/100\n",
            "2/2 [==============================] - 0s 11ms/step - loss: 0.0511 - mae: 0.0511\n",
            "Epoch 78/100\n",
            "2/2 [==============================] - 0s 16ms/step - loss: 0.1921 - mae: 0.1921\n",
            "Epoch 79/100\n",
            "2/2 [==============================] - 0s 10ms/step - loss: 0.2266 - mae: 0.2266\n",
            "Epoch 80/100\n",
            "2/2 [==============================] - 0s 24ms/step - loss: 0.8838 - mae: 0.8838\n",
            "Epoch 81/100\n",
            "2/2 [==============================] - 0s 29ms/step - loss: 0.6287 - mae: 0.6287\n",
            "Epoch 82/100\n",
            "2/2 [==============================] - 0s 12ms/step - loss: 1.1971 - mae: 1.1971\n",
            "Epoch 83/100\n",
            "2/2 [==============================] - 0s 14ms/step - loss: 0.6805 - mae: 0.6805\n",
            "Epoch 84/100\n",
            "2/2 [==============================] - 0s 13ms/step - loss: 0.9964 - mae: 0.9964\n",
            "Epoch 85/100\n",
            "2/2 [==============================] - 0s 15ms/step - loss: 0.4001 - mae: 0.4001\n",
            "Epoch 86/100\n",
            "2/2 [==============================] - 0s 24ms/step - loss: 1.4547 - mae: 1.4547\n",
            "Epoch 87/100\n",
            "2/2 [==============================] - 0s 16ms/step - loss: 0.5809 - mae: 0.5809\n",
            "Epoch 88/100\n",
            "2/2 [==============================] - 0s 14ms/step - loss: 1.1547 - mae: 1.1547\n",
            "Epoch 89/100\n",
            "2/2 [==============================] - 0s 12ms/step - loss: 0.4027 - mae: 0.4027\n",
            "Epoch 90/100\n",
            "2/2 [==============================] - 0s 12ms/step - loss: 1.3818 - mae: 1.3818\n",
            "Epoch 91/100\n",
            "2/2 [==============================] - 0s 11ms/step - loss: 0.5334 - mae: 0.5334\n",
            "Epoch 92/100\n",
            "2/2 [==============================] - 0s 11ms/step - loss: 1.1410 - mae: 1.1410\n",
            "Epoch 93/100\n",
            "2/2 [==============================] - 0s 15ms/step - loss: 0.3756 - mae: 0.3756\n",
            "Epoch 94/100\n",
            "2/2 [==============================] - 0s 11ms/step - loss: 1.5364 - mae: 1.5364\n",
            "Epoch 95/100\n",
            "2/2 [==============================] - 0s 11ms/step - loss: 0.7230 - mae: 0.7230\n",
            "Epoch 96/100\n",
            "2/2 [==============================] - 0s 11ms/step - loss: 1.0180 - mae: 1.0180\n",
            "Epoch 97/100\n",
            "2/2 [==============================] - 0s 13ms/step - loss: 0.4414 - mae: 0.4414\n",
            "Epoch 98/100\n",
            "2/2 [==============================] - 0s 11ms/step - loss: 1.3623 - mae: 1.3623\n",
            "Epoch 99/100\n",
            "2/2 [==============================] - 0s 22ms/step - loss: 0.6193 - mae: 0.6193\n",
            "Epoch 100/100\n",
            "2/2 [==============================] - 0s 10ms/step - loss: 0.5851 - mae: 0.5851\n"
          ]
        },
        {
          "output_type": "execute_result",
          "data": {
            "text/plain": [
              "<keras.callbacks.History at 0x7fe80a76b9d0>"
            ]
          },
          "metadata": {},
          "execution_count": 16
        }
      ]
    },
    {
      "cell_type": "code",
      "source": [
        "model.summary()"
      ],
      "metadata": {
        "colab": {
          "base_uri": "https://localhost:8080/"
        },
        "id": "tAL23pgcvDTx",
        "outputId": "c968c69c-0ac5-4810-dfcd-391aa3cdb700"
      },
      "execution_count": null,
      "outputs": [
        {
          "output_type": "stream",
          "name": "stdout",
          "text": [
            "Model: \"sequential_3\"\n",
            "_________________________________________________________________\n",
            " Layer (type)                Output Shape              Param #   \n",
            "=================================================================\n",
            " dense_4 (Dense)             (None, 1)                 2         \n",
            "                                                                 \n",
            "=================================================================\n",
            "Total params: 2\n",
            "Trainable params: 2\n",
            "Non-trainable params: 0\n",
            "_________________________________________________________________\n"
          ]
        }
      ]
    },
    {
      "cell_type": "code",
      "source": [
        "tf.random.set_seed(42)\n",
        "model = tf.keras.Sequential([\n",
        "                             tf.keras.layers.Dense(10,input_shape=[1],name=\"input_layer\"),\n",
        "                             tf.keras.layers.Dense(1,name=\"output_layer\")\n",
        "], name = \"model_1\")\n",
        "model.compile(loss = tf.keras.losses.mae,\n",
        "              optimizer = tf.keras.optimizers.Adam(learning_rate = 0.1),\n",
        "              metrics = 'mse')"
      ],
      "metadata": {
        "id": "2gO-OTuovJPo"
      },
      "execution_count": null,
      "outputs": []
    },
    {
      "cell_type": "code",
      "source": [
        "model.summary()"
      ],
      "metadata": {
        "colab": {
          "base_uri": "https://localhost:8080/"
        },
        "id": "bv4uOsppwPja",
        "outputId": "15d5674b-61bf-4784-fb3d-299f067f573a"
      },
      "execution_count": null,
      "outputs": [
        {
          "output_type": "stream",
          "name": "stdout",
          "text": [
            "Model: \"model_1\"\n",
            "_________________________________________________________________\n",
            " Layer (type)                Output Shape              Param #   \n",
            "=================================================================\n",
            " input_layer (Dense)         (None, 10)                20        \n",
            "                                                                 \n",
            " output_layer (Dense)        (None, 1)                 11        \n",
            "                                                                 \n",
            "=================================================================\n",
            "Total params: 31\n",
            "Trainable params: 31\n",
            "Non-trainable params: 0\n",
            "_________________________________________________________________\n"
          ]
        }
      ]
    },
    {
      "cell_type": "code",
      "source": [
        "model.fit(tf.expand_dims(X_train,axis = -1),Y_train,epochs = 50,verbose = 2)"
      ],
      "metadata": {
        "colab": {
          "base_uri": "https://localhost:8080/"
        },
        "id": "SH0gAIQP0wL0",
        "outputId": "279bca64-4729-4786-d8dc-d965a093f158"
      },
      "execution_count": null,
      "outputs": [
        {
          "output_type": "stream",
          "name": "stdout",
          "text": [
            "Epoch 1/50\n",
            "2/2 - 1s - loss: 23.1334 - mse: 738.4313 - 1s/epoch - 565ms/step\n",
            "Epoch 2/50\n",
            "2/2 - 0s - loss: 13.8879 - mse: 276.7433 - 13ms/epoch - 7ms/step\n",
            "Epoch 3/50\n",
            "2/2 - 0s - loss: 11.2354 - mse: 175.0522 - 17ms/epoch - 8ms/step\n",
            "Epoch 4/50\n",
            "2/2 - 0s - loss: 9.9052 - mse: 131.8277 - 19ms/epoch - 10ms/step\n",
            "Epoch 5/50\n",
            "2/2 - 0s - loss: 11.6202 - mse: 184.0492 - 14ms/epoch - 7ms/step\n",
            "Epoch 6/50\n",
            "2/2 - 0s - loss: 13.3254 - mse: 263.9885 - 18ms/epoch - 9ms/step\n",
            "Epoch 7/50\n",
            "2/2 - 0s - loss: 6.4085 - mse: 51.4343 - 14ms/epoch - 7ms/step\n",
            "Epoch 8/50\n",
            "2/2 - 0s - loss: 12.4448 - mse: 208.3473 - 15ms/epoch - 8ms/step\n",
            "Epoch 9/50\n",
            "2/2 - 0s - loss: 8.3798 - mse: 97.6554 - 15ms/epoch - 8ms/step\n",
            "Epoch 10/50\n",
            "2/2 - 0s - loss: 7.1615 - mse: 67.4601 - 15ms/epoch - 8ms/step\n",
            "Epoch 11/50\n",
            "2/2 - 0s - loss: 11.3141 - mse: 190.2078 - 21ms/epoch - 10ms/step\n",
            "Epoch 12/50\n",
            "2/2 - 0s - loss: 5.8087 - mse: 46.2005 - 28ms/epoch - 14ms/step\n",
            "Epoch 13/50\n",
            "2/2 - 0s - loss: 7.3715 - mse: 74.7401 - 25ms/epoch - 12ms/step\n",
            "Epoch 14/50\n",
            "2/2 - 0s - loss: 6.4812 - mse: 57.5350 - 32ms/epoch - 16ms/step\n",
            "Epoch 15/50\n",
            "2/2 - 0s - loss: 4.5382 - mse: 28.6375 - 19ms/epoch - 9ms/step\n",
            "Epoch 16/50\n",
            "2/2 - 0s - loss: 7.1655 - mse: 77.4639 - 14ms/epoch - 7ms/step\n",
            "Epoch 17/50\n",
            "2/2 - 0s - loss: 3.1583 - mse: 13.2758 - 15ms/epoch - 8ms/step\n",
            "Epoch 18/50\n",
            "2/2 - 0s - loss: 6.5485 - mse: 57.9547 - 15ms/epoch - 8ms/step\n",
            "Epoch 19/50\n",
            "2/2 - 0s - loss: 3.4809 - mse: 16.1115 - 14ms/epoch - 7ms/step\n",
            "Epoch 20/50\n",
            "2/2 - 0s - loss: 3.3694 - mse: 16.3446 - 14ms/epoch - 7ms/step\n",
            "Epoch 21/50\n",
            "2/2 - 0s - loss: 0.9583 - mse: 3.6406 - 22ms/epoch - 11ms/step\n",
            "Epoch 22/50\n",
            "2/2 - 0s - loss: 3.8311 - mse: 21.6293 - 22ms/epoch - 11ms/step\n",
            "Epoch 23/50\n",
            "2/2 - 0s - loss: 1.0017 - mse: 1.3564 - 19ms/epoch - 10ms/step\n",
            "Epoch 24/50\n",
            "2/2 - 0s - loss: 1.1192 - mse: 2.1305 - 16ms/epoch - 8ms/step\n",
            "Epoch 25/50\n",
            "2/2 - 0s - loss: 1.4279 - mse: 3.4908 - 45ms/epoch - 23ms/step\n",
            "Epoch 26/50\n",
            "2/2 - 0s - loss: 2.6687 - mse: 9.7096 - 17ms/epoch - 9ms/step\n",
            "Epoch 27/50\n",
            "2/2 - 0s - loss: 1.0154 - mse: 4.2285 - 17ms/epoch - 8ms/step\n",
            "Epoch 28/50\n",
            "2/2 - 0s - loss: 3.7084 - mse: 19.6909 - 19ms/epoch - 9ms/step\n",
            "Epoch 29/50\n",
            "2/2 - 0s - loss: 1.5156 - mse: 5.2897 - 19ms/epoch - 10ms/step\n",
            "Epoch 30/50\n",
            "2/2 - 0s - loss: 1.4539 - mse: 3.4507 - 24ms/epoch - 12ms/step\n",
            "Epoch 31/50\n",
            "2/2 - 0s - loss: 0.8656 - mse: 0.8240 - 20ms/epoch - 10ms/step\n",
            "Epoch 32/50\n",
            "2/2 - 0s - loss: 0.5269 - mse: 0.3906 - 16ms/epoch - 8ms/step\n",
            "Epoch 33/50\n",
            "2/2 - 0s - loss: 0.6120 - mse: 0.5542 - 20ms/epoch - 10ms/step\n",
            "Epoch 34/50\n",
            "2/2 - 0s - loss: 1.0395 - mse: 1.6384 - 20ms/epoch - 10ms/step\n",
            "Epoch 35/50\n",
            "2/2 - 0s - loss: 0.9427 - mse: 1.3203 - 15ms/epoch - 8ms/step\n",
            "Epoch 36/50\n",
            "2/2 - 0s - loss: 0.6392 - mse: 0.6085 - 14ms/epoch - 7ms/step\n",
            "Epoch 37/50\n",
            "2/2 - 0s - loss: 1.0779 - mse: 1.7086 - 16ms/epoch - 8ms/step\n",
            "Epoch 38/50\n",
            "2/2 - 0s - loss: 0.6690 - mse: 0.9630 - 22ms/epoch - 11ms/step\n",
            "Epoch 39/50\n",
            "2/2 - 0s - loss: 1.4951 - mse: 3.2878 - 20ms/epoch - 10ms/step\n",
            "Epoch 40/50\n",
            "2/2 - 0s - loss: 0.6381 - mse: 0.5867 - 11ms/epoch - 5ms/step\n",
            "Epoch 41/50\n",
            "2/2 - 0s - loss: 0.3789 - mse: 0.4061 - 19ms/epoch - 10ms/step\n",
            "Epoch 42/50\n",
            "2/2 - 0s - loss: 0.7730 - mse: 1.2989 - 22ms/epoch - 11ms/step\n",
            "Epoch 43/50\n",
            "2/2 - 0s - loss: 3.0366 - mse: 12.9071 - 14ms/epoch - 7ms/step\n",
            "Epoch 44/50\n",
            "2/2 - 0s - loss: 0.8952 - mse: 1.1598 - 17ms/epoch - 9ms/step\n",
            "Epoch 45/50\n",
            "2/2 - 0s - loss: 0.9240 - mse: 1.5510 - 23ms/epoch - 12ms/step\n",
            "Epoch 46/50\n",
            "2/2 - 0s - loss: 2.5373 - mse: 9.7951 - 20ms/epoch - 10ms/step\n",
            "Epoch 47/50\n",
            "2/2 - 0s - loss: 1.1345 - mse: 1.7461 - 12ms/epoch - 6ms/step\n",
            "Epoch 48/50\n",
            "2/2 - 0s - loss: 0.3896 - mse: 0.2495 - 12ms/epoch - 6ms/step\n",
            "Epoch 49/50\n",
            "2/2 - 0s - loss: 0.5909 - mse: 0.4859 - 11ms/epoch - 6ms/step\n",
            "Epoch 50/50\n",
            "2/2 - 0s - loss: 0.7337 - mse: 0.9286 - 12ms/epoch - 6ms/step\n"
          ]
        },
        {
          "output_type": "execute_result",
          "data": {
            "text/plain": [
              "<keras.callbacks.History at 0x7fe80a6dc750>"
            ]
          },
          "metadata": {},
          "execution_count": 20
        }
      ]
    },
    {
      "cell_type": "code",
      "source": [
        "from tensorflow.keras.utils import plot_model\n",
        "plot_model(model = model, show_shapes = True)"
      ],
      "metadata": {
        "colab": {
          "base_uri": "https://localhost:8080/",
          "height": 312
        },
        "id": "5tbUSq8yzFW1",
        "outputId": "402bc869-6796-4ae0-f4f8-d52d5e44e356"
      },
      "execution_count": null,
      "outputs": [
        {
          "output_type": "execute_result",
          "data": {
            "text/plain": [
              "<IPython.core.display.Image object>"
            ],
            "image/png": "[encoded data removed]"
          },
          "metadata": {},
          "execution_count": 21
        }
      ]
    },
    {
      "cell_type": "markdown",
      "source": [
        "### Visualizing model's predictions\n",
        "good idea to plot them against the ground truth"
      ],
      "metadata": {
        "id": "4FxEbdb712u-"
      }
    },
    {
      "cell_type": "code",
      "source": [
        "# make some predictions\n",
        "Y_pred = model.predict(X_test)\n",
        "Y_pred, Y_test"
      ],
      "metadata": {
        "colab": {
          "base_uri": "https://localhost:8080/"
        },
        "id": "71ZTWAY-2Alj",
        "outputId": "4aeee2c3-288c-4502-b20f-d852de21643c"
      },
      "execution_count": null,
      "outputs": [
        {
          "output_type": "execute_result",
          "data": {
            "text/plain": [
              "(array([[ 66.59317 ],\n",
              "        [ 70.380844],\n",
              "        [ 74.16852 ],\n",
              "        [ 77.95619 ],\n",
              "        [ 81.743866],\n",
              "        [ 85.531555],\n",
              "        [ 89.31922 ],\n",
              "        [ 93.1069  ],\n",
              "        [ 96.89458 ],\n",
              "        [100.68224 ]], dtype=float32),\n",
              " <tf.Tensor: shape=(10,), dtype=int32, numpy=array([ 70,  74,  78,  82,  86,  90,  94,  98, 102, 106], dtype=int32)>)"
            ]
          },
          "metadata": {},
          "execution_count": 22
        }
      ]
    },
    {
      "cell_type": "code",
      "source": [
        "# create a function\n",
        "def plot_predictions(train_data = X_train,\n",
        "                     train_labels = Y_train,\n",
        "                     test_data = X_test,\n",
        "                     test_labels = Y_test,\n",
        "                     predictions = Y_pred):\n",
        "    plt.figure(figsize = (10,7))\n",
        "    plt.scatter(train_data,train_labels,c=\"b\",label=\"Training data\")\n",
        "    plt.scatter(test_data,test_labels,c=\"g\",label=\"Testing data\")\n",
        "    plt.scatter(test_data,predictions,c=\"r\",label=\"Predictions\")\n",
        "    plt.legend();   \n",
        "\n"
      ],
      "metadata": {
        "id": "VEs7gBDB2jPi"
      },
      "execution_count": null,
      "outputs": []
    },
    {
      "cell_type": "code",
      "source": [
        "plot_predictions(train_data = X_train,\n",
        "                 train_labels = Y_train,\n",
        "                 test_data = X_test,\n",
        "                 test_labels = Y_test,\n",
        "                 predictions = Y_pred)"
      ],
      "metadata": {
        "colab": {
          "base_uri": "https://localhost:8080/"
        },
        "id": "J2iOzRRW3YWH",
        "outputId": "73df1176-6ae0-470b-a724-20db06b215fd"
      },
      "execution_count": null,
      "outputs": [
        {
          "output_type": "display_data",
          "data": {
            "text/plain": [
              "<Figure size 720x504 with 1 Axes>"
            ],
            "image/png": "[encoded data removed]"
          },
          "metadata": {
            "needs_background": "light"
          }
        }
      ]
    },
    {
      "cell_type": "markdown",
      "source": [
        "### Evaluating model using regression models:\n",
        "MAE\n",
        "MSE\n",
        "Huber"
      ],
      "metadata": {
        "id": "ogwA518K4cQ-"
      }
    },
    {
      "cell_type": "code",
      "source": [
        "# evaluate the model\n",
        "model.evaluate(X_test,Y_test)"
      ],
      "metadata": {
        "colab": {
          "base_uri": "https://localhost:8080/"
        },
        "id": "JLIWvAFB4gzx",
        "outputId": "7bde1400-bfef-4491-ea39-f3ee10660c76"
      },
      "execution_count": null,
      "outputs": [
        {
          "output_type": "stream",
          "name": "stdout",
          "text": [
            "1/1 [==============================] - 1s 540ms/step - loss: 4.3623 - mse: 19.4015\n"
          ]
        },
        {
          "output_type": "execute_result",
          "data": {
            "text/plain": [
              "[4.3622870445251465, 19.401470184326172]"
            ]
          },
          "metadata": {},
          "execution_count": 25
        }
      ]
    },
    {
      "cell_type": "code",
      "source": [
        "# MAE:\n",
        "mae = tf.keras.losses.MAE(y_true = Y_test,y_pred = tf.squeeze(Y_pred)).numpy()\n",
        "mae"
      ],
      "metadata": {
        "colab": {
          "base_uri": "https://localhost:8080/"
        },
        "id": "Xv56tTaK4tKr",
        "outputId": "1b263bf5-9179-4007-a052-1274143c8b17"
      },
      "execution_count": null,
      "outputs": [
        {
          "output_type": "execute_result",
          "data": {
            "text/plain": [
              "4.362291"
            ]
          },
          "metadata": {},
          "execution_count": 26
        }
      ]
    },
    {
      "cell_type": "code",
      "source": [
        "mse = tf.keras.losses.MSE(y_true = Y_test,y_pred = tf.squeeze(Y_pred)).numpy()\n",
        "mse"
      ],
      "metadata": {
        "colab": {
          "base_uri": "https://localhost:8080/"
        },
        "id": "Gz19Aiq155mG",
        "outputId": "7680bf0f-d8ed-4420-89c5-f238eee3afe2"
      },
      "execution_count": null,
      "outputs": [
        {
          "output_type": "execute_result",
          "data": {
            "text/plain": [
              "19.401505"
            ]
          },
          "metadata": {},
          "execution_count": 27
        }
      ]
    },
    {
      "cell_type": "markdown",
      "source": [
        "### compare different models:\n",
        "import pandas as pd\n",
        "model_results = [[\"model_1\",mae_1.numpy(),mse_1.numpy()],\\\n",
        "                  [\"model_2\",mae_2.numpy(),mse_2.numpy()],\\\n",
        "                  [\"model_3\",mae_3.numpy(),mse_3.numpy()]]"
      ],
      "metadata": {
        "id": "zrDdjZ-d77QO"
      }
    },
    {
      "cell_type": "markdown",
      "source": [
        "### Save a model"
      ],
      "metadata": {
        "id": "S0bsqOhA91Z-"
      }
    },
    {
      "cell_type": "code",
      "source": [
        "# save model us the Savedmodel format\n",
        "model.save(\"test_model_1\")"
      ],
      "metadata": {
        "colab": {
          "base_uri": "https://localhost:8080/"
        },
        "id": "NbUxe3lc-c03",
        "outputId": "ca65751b-fd63-4264-9887-d1a268ec86b0"
      },
      "execution_count": null,
      "outputs": [
        {
          "output_type": "stream",
          "name": "stdout",
          "text": [
            "INFO:tensorflow:Assets written to: test_model_1/assets\n"
          ]
        }
      ]
    },
    {
      "cell_type": "code",
      "source": [
        "# save model in HDF5 format\n",
        "model.save(\"test_model_1_HDF5_format.h5\")"
      ],
      "metadata": {
        "id": "j5JvPM_o--Iy"
      },
      "execution_count": null,
      "outputs": []
    },
    {
      "cell_type": "code",
      "source": [
        "# load a saved model\n",
        "loaded_SavedModel_format = tf.keras.models.load_model(\"/content/test_model_1\")\n",
        "loaded_SavedModel_format.summary()"
      ],
      "metadata": {
        "colab": {
          "base_uri": "https://localhost:8080/"
        },
        "id": "gnYm9aCXAKJ6",
        "outputId": "227f112e-ff62-47f3-acfd-9d4cc0e6a8df"
      },
      "execution_count": null,
      "outputs": [
        {
          "output_type": "stream",
          "name": "stdout",
          "text": [
            "Model: \"model_1\"\n",
            "_________________________________________________________________\n",
            " Layer (type)                Output Shape              Param #   \n",
            "=================================================================\n",
            " input_layer (Dense)         (None, 10)                20        \n",
            "                                                                 \n",
            " output_layer (Dense)        (None, 1)                 11        \n",
            "                                                                 \n",
            "=================================================================\n",
            "Total params: 31\n",
            "Trainable params: 31\n",
            "Non-trainable params: 0\n",
            "_________________________________________________________________\n"
          ]
        }
      ]
    },
    {
      "cell_type": "code",
      "source": [
        "model.summary()"
      ],
      "metadata": {
        "colab": {
          "base_uri": "https://localhost:8080/"
        },
        "id": "YoQU79tYArGl",
        "outputId": "a697cb4a-eb6e-4126-9f3b-ebd13a9290d6"
      },
      "execution_count": null,
      "outputs": [
        {
          "output_type": "stream",
          "name": "stdout",
          "text": [
            "Model: \"model_1\"\n",
            "_________________________________________________________________\n",
            " Layer (type)                Output Shape              Param #   \n",
            "=================================================================\n",
            " input_layer (Dense)         (None, 10)                20        \n",
            "                                                                 \n",
            " output_layer (Dense)        (None, 1)                 11        \n",
            "                                                                 \n",
            "=================================================================\n",
            "Total params: 31\n",
            "Trainable params: 31\n",
            "Non-trainable params: 0\n",
            "_________________________________________________________________\n"
          ]
        }
      ]
    },
    {
      "cell_type": "code",
      "source": [
        "loaded_h5_model = tf.keras.models.load_model(\"/content/test_model_1_HDF5_format.h5\")\n",
        "loaded_h5_model.summary()"
      ],
      "metadata": {
        "colab": {
          "base_uri": "https://localhost:8080/"
        },
        "id": "hXlAPTokCEmj",
        "outputId": "4d3b06a2-d8f5-4bb2-c266-1552449ab76a"
      },
      "execution_count": null,
      "outputs": [
        {
          "output_type": "stream",
          "name": "stdout",
          "text": [
            "Model: \"model_1\"\n",
            "_________________________________________________________________\n",
            " Layer (type)                Output Shape              Param #   \n",
            "=================================================================\n",
            " input_layer (Dense)         (None, 10)                20        \n",
            "                                                                 \n",
            " output_layer (Dense)        (None, 1)                 11        \n",
            "                                                                 \n",
            "=================================================================\n",
            "Total params: 31\n",
            "Trainable params: 31\n",
            "Non-trainable params: 0\n",
            "_________________________________________________________________\n"
          ]
        }
      ]
    },
    {
      "cell_type": "code",
      "source": [
        "# check predictions\n",
        "model_1_preds = model.predict(X_test)\n",
        "loaded_h5_preds = loaded_h5_model.predict(X_test)\n",
        "model_1_preds == loaded_h5_preds"
      ],
      "metadata": {
        "colab": {
          "base_uri": "https://localhost:8080/"
        },
        "id": "n6LS6Y4eBwn6",
        "outputId": "d45189ca-8c9d-4af0-8fe4-86bf0d1b12ad"
      },
      "execution_count": null,
      "outputs": [
        {
          "output_type": "stream",
          "name": "stdout",
          "text": [
            "WARNING:tensorflow:5 out of the last 6 calls to <function Model.make_predict_function.<locals>.predict_function at 0x7fe892dcbf80> triggered tf.function retracing. Tracing is expensive and the excessive number of tracings could be due to (1) creating @tf.function repeatedly in a loop, (2) passing tensors with different shapes, (3) passing Python objects instead of tensors. For (1), please define your @tf.function outside of the loop. For (2), @tf.function has experimental_relax_shapes=True option that relaxes argument shapes that can avoid unnecessary retracing. For (3), please refer to https://www.tensorflow.org/guide/function#controlling_retracing and https://www.tensorflow.org/api_docs/python/tf/function for  more details.\n"
          ]
        },
        {
          "output_type": "execute_result",
          "data": {
            "text/plain": [
              "array([[ True],\n",
              "       [ True],\n",
              "       [ True],\n",
              "       [ True],\n",
              "       [ True],\n",
              "       [ True],\n",
              "       [ True],\n",
              "       [ True],\n",
              "       [ True],\n",
              "       [ True]])"
            ]
          },
          "metadata": {},
          "execution_count": 33
        }
      ]
    },
    {
      "cell_type": "code",
      "source": [
        "from google.colab import drive\n",
        "drive.mount('/content/drive')"
      ],
      "metadata": {
        "colab": {
          "base_uri": "https://localhost:8080/"
        },
        "id": "ntGY9XQjFizC",
        "outputId": "dc3a1063-cc30-456d-bc22-ad6016fe32e8"
      },
      "execution_count": null,
      "outputs": [
        {
          "output_type": "stream",
          "name": "stdout",
          "text": [
            "Mounted at /content/drive\n"
          ]
        }
      ]
    }
  ]
}