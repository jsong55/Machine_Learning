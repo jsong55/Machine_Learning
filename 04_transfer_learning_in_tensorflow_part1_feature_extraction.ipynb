{
  "nbformat": 4,
  "nbformat_minor": 0,
  "metadata": {
    "colab": {
      "provenance": [],
      "include_colab_link": true
    },
    "kernelspec": {
      "name": "python3",
      "display_name": "Python 3"
    },
    "language_info": {
      "name": "python"
    },
    "accelerator": "GPU"
  },
  "cells": [
    {
      "cell_type": "markdown",
      "metadata": {
        "id": "view-in-github",
        "colab_type": "text"
      },
      "source": [
        "<a href=\"https://colab.research.google.com/github/jsong55/Machine_Learning/blob/master/04_transfer_learning_in_tensorflow_part1_feature_extraction.ipynb\" target=\"_parent\"><img src=\"https://colab.research.google.com/assets/colab-badge.svg\" alt=\"Open In Colab\"/></a>"
      ]
    },
    {
      "cell_type": "markdown",
      "source": [
        "# Transfer learning part 1: Feature extraction\n",
        "\n",
        "Benefits of TL:\n",
        "1. Can leverage an existing neural network architecture proven to work with similar problems\n",
        "2. Can leverage a working NN architecture which has already learning on similar data"
      ],
      "metadata": {
        "id": "Y_2f2fOE8TS1"
      }
    },
    {
      "cell_type": "code",
      "source": [
        "import zipfile\n",
        "import os\n",
        "import random\n",
        "import tensorflow as tf\n",
        "import pathlib\n",
        "import numpy as np\n",
        "import matplotlib.pyplot as plt\n",
        "import matplotlib.image as mpimg\n",
        "from tensorflow.keras.preprocessing.image import ImageDataGenerator\n",
        "from tensorflow.keras.optimizers import Adam\n",
        "from tensorflow.keras.layers import Dense, Flatten, Conv2D, MaxPool2D, Activation\n",
        "from tensorflow.keras import Sequential, layers\n",
        "import datetime\n",
        "import tensorflow_hub as hub"
      ],
      "metadata": {
        "id": "LmF9iRoc87Xv"
      },
      "execution_count": 1,
      "outputs": []
    },
    {
      "cell_type": "code",
      "source": [
        "!wget https://storage.googleapis.com/ztm_tf_course/food_vision/10_food_classes_10_percent.zip\n",
        "zip_ref = zipfile.ZipFile(\"10_food_classes_10_percent.zip\",\"r\")\n",
        "zip_ref.extractall()\n",
        "zip_ref.close()"
      ],
      "metadata": {
        "colab": {
          "base_uri": "https://localhost:8080/"
        },
        "id": "IaHl4BtX9RVN",
        "outputId": "8f37a05d-399d-4fcb-dcb5-a7b32bbb2d94"
      },
      "execution_count": 2,
      "outputs": [
        {
          "output_type": "stream",
          "name": "stdout",
          "text": [
            "--2022-10-18 17:36:45--  https://storage.googleapis.com/ztm_tf_course/food_vision/10_food_classes_10_percent.zip\n",
            "Resolving storage.googleapis.com (storage.googleapis.com)... 74.125.200.128, 74.125.68.128, 74.125.24.128, ...\n",
            "Connecting to storage.googleapis.com (storage.googleapis.com)|74.125.200.128|:443... connected.\n",
            "HTTP request sent, awaiting response... 200 OK\n",
            "Length: 168546183 (161M) [application/zip]\n",
            "Saving to: ‘10_food_classes_10_percent.zip’\n",
            "\n",
            "10_food_classes_10_ 100%[===================>] 160.74M  54.4MB/s    in 3.0s    \n",
            "\n",
            "2022-10-18 17:36:49 (54.4 MB/s) - ‘10_food_classes_10_percent.zip’ saved [168546183/168546183]\n",
            "\n"
          ]
        }
      ]
    },
    {
      "cell_type": "code",
      "source": [
        "for dirpath, dirnames, filenames in os.walk(\"10_food_classes_10_percent\"):\n",
        "  print(f\"There are {len(dirnames)} directories and {len(filenames)} images in '{dirpath}'.\")"
      ],
      "metadata": {
        "colab": {
          "base_uri": "https://localhost:8080/"
        },
        "id": "X5zjhC5E93yI",
        "outputId": "7824f1c8-76f2-44da-8abd-cd37e9ac13ee"
      },
      "execution_count": 3,
      "outputs": [
        {
          "output_type": "stream",
          "name": "stdout",
          "text": [
            "There are 2 directories and 0 images in '10_food_classes_10_percent'.\n",
            "There are 10 directories and 0 images in '10_food_classes_10_percent/train'.\n",
            "There are 0 directories and 75 images in '10_food_classes_10_percent/train/ramen'.\n",
            "There are 0 directories and 75 images in '10_food_classes_10_percent/train/hamburger'.\n",
            "There are 0 directories and 75 images in '10_food_classes_10_percent/train/grilled_salmon'.\n",
            "There are 0 directories and 75 images in '10_food_classes_10_percent/train/ice_cream'.\n",
            "There are 0 directories and 75 images in '10_food_classes_10_percent/train/steak'.\n",
            "There are 0 directories and 75 images in '10_food_classes_10_percent/train/pizza'.\n",
            "There are 0 directories and 75 images in '10_food_classes_10_percent/train/fried_rice'.\n",
            "There are 0 directories and 75 images in '10_food_classes_10_percent/train/chicken_curry'.\n",
            "There are 0 directories and 75 images in '10_food_classes_10_percent/train/sushi'.\n",
            "There are 0 directories and 75 images in '10_food_classes_10_percent/train/chicken_wings'.\n",
            "There are 10 directories and 0 images in '10_food_classes_10_percent/test'.\n",
            "There are 0 directories and 250 images in '10_food_classes_10_percent/test/ramen'.\n",
            "There are 0 directories and 250 images in '10_food_classes_10_percent/test/hamburger'.\n",
            "There are 0 directories and 250 images in '10_food_classes_10_percent/test/grilled_salmon'.\n",
            "There are 0 directories and 250 images in '10_food_classes_10_percent/test/ice_cream'.\n",
            "There are 0 directories and 250 images in '10_food_classes_10_percent/test/steak'.\n",
            "There are 0 directories and 250 images in '10_food_classes_10_percent/test/pizza'.\n",
            "There are 0 directories and 250 images in '10_food_classes_10_percent/test/fried_rice'.\n",
            "There are 0 directories and 250 images in '10_food_classes_10_percent/test/chicken_curry'.\n",
            "There are 0 directories and 250 images in '10_food_classes_10_percent/test/sushi'.\n",
            "There are 0 directories and 250 images in '10_food_classes_10_percent/test/chicken_wings'.\n"
          ]
        }
      ]
    },
    {
      "cell_type": "markdown",
      "source": [
        "## create data loaders (preparing the data)\n",
        "use ImageDataGenerator class to load images in batches\n"
      ],
      "metadata": {
        "id": "cCDmEiu7-jJ5"
      }
    },
    {
      "cell_type": "code",
      "source": [
        "IMAGE_SHAPE = (224,224)\n",
        "BATCH_SIZE = 32\n",
        "\n",
        "# Setup the train and test directories\n",
        "train_dir = \"10_food_classes_10_percent/train/\"\n",
        "test_dir = \"10_food_classes_10_percent/test/\"\n",
        "# rescale\n",
        "train_datagen = ImageDataGenerator(rescale=1/255.)\n",
        "test_datagen = ImageDataGenerator(rescale=1/255.)\n",
        "\n",
        "print(\"Training images:\")\n",
        "train_data_10_percent = train_datagen.flow_from_directory(train_dir,\n",
        "                              target_size=IMAGE_SHAPE,\n",
        "                              batch_size=BATCH_SIZE,\n",
        "                              class_mode='categorical',\n",
        "                              shuffle=True)\n",
        "\n",
        "print(\"Testing images:\")\n",
        "test_data = test_datagen.flow_from_directory(test_dir,\n",
        "                        target_size=IMAGE_SHAPE,\n",
        "                        batch_size=BATCH_SIZE,\n",
        "                        class_mode='categorical')"
      ],
      "metadata": {
        "colab": {
          "base_uri": "https://localhost:8080/"
        },
        "id": "YjYv-9IQ-zwd",
        "outputId": "70a603e6-da80-40e3-b0ab-fe92ab950e76"
      },
      "execution_count": 4,
      "outputs": [
        {
          "output_type": "stream",
          "name": "stdout",
          "text": [
            "Training images:\n",
            "Found 750 images belonging to 10 classes.\n",
            "Testing images:\n",
            "Found 2500 images belonging to 10 classes.\n"
          ]
        }
      ]
    },
    {
      "cell_type": "markdown",
      "source": [
        "## Setting up callbacks (things to run while our model trains)\n",
        "\n",
        "Callbacks are extra functionality you can add to your models to be performed during of after trainng. Some popular callbacks are:\n",
        "\n",
        "* Tracking experiments with the TensorBoard callback\n",
        "* Model checkpoint with the ModelCheckpoint callback\n",
        "* Stopping a model from training (before it trains too long and overfits) with the EarlyStopping callback"
      ],
      "metadata": {
        "id": "FHyIn7mkBIvq"
      }
    },
    {
      "cell_type": "code",
      "source": [
        "# Create TensorBoard callback (for multiple models)\n",
        "def create_tensorboard_callback(dir_name,experiment_name):\n",
        "  log_dir = dir_name + \"/\" + experiment_name + \"/\" + datetime.datetime.now().strftime(\"%Y%m%d-%H%M%S\")\n",
        "  tensorboard_callback = tf.keras.callbacks.TensorBoard(log_dir = log_dir)\n",
        "  print(f\"Saving TensorBoard log files to: {log_dir}\")\n",
        "  return tensorboard_callback"
      ],
      "metadata": {
        "id": "7CP9emEaB4nM"
      },
      "execution_count": 5,
      "outputs": []
    },
    {
      "cell_type": "markdown",
      "source": [
        "## Creating models using Tensorflow hub\n",
        "\n",
        "We can access pretrained models on : https://tfhub.dev/\n",
        "\n",
        "Check out https://paperswithcode.com"
      ],
      "metadata": {
        "id": "9f6hlLGCD0KG"
      }
    },
    {
      "cell_type": "code",
      "source": [
        "# Let's compare 2 models from tfhub\n",
        "resnet_url = \"https://tfhub.dev/google/imagenet/resnet_v2_50/feature_vector/4\"\n",
        "\n",
        "# Original: EfficientNetB0 feature vector (version 1)\n",
        "efficientnet_url = \"https://tfhub.dev/tensorflow/efficientnet/b0/feature-vector/1\""
      ],
      "metadata": {
        "id": "Mu5DVGzCEPxJ"
      },
      "execution_count": 6,
      "outputs": []
    },
    {
      "cell_type": "code",
      "source": [
        "# Let's make a function to create a model from a url\n",
        "def create_model(model_url,num_classes=10):\n",
        "  \"\"\"\n",
        "  Takes a TensoeFlow HUB URL and creates a Keras Sequential model with it.\n",
        "\n",
        "  Args:\n",
        "  model_url(str): A Tensorflow hub feature extraction url\n",
        "  num_classes(int): number of output neurons in the output layers, should\n",
        "    be equal to the number of target classes\n",
        "\n",
        "  Returns:\n",
        "    An uncompiled keras sequential model with model_url as feature extractor layers and \n",
        "      dense output layer with num_class output neurons.\n",
        "  \"\"\"\n",
        "  # Download the pretrained model and save it as a keras layer\n",
        "  feature_extraction_layer = hub.KerasLayer(model_url,\n",
        "                        trainable=False,\n",
        "                        name=\"feature_extraction_layer\",\n",
        "                        input_shape=IMAGE_SHAPE+(3,)) # freeze the already learned patterns\n",
        "\n",
        "  # Create our model\n",
        "  model = tf.keras.Sequential([\n",
        "      feature_extraction_layer,\n",
        "      layers.Dense(num_classes,activation=\"softmax\",name=\"output_layer\")\n",
        "  ])                  \n",
        "  return model\n"
      ],
      "metadata": {
        "id": "i8eB9GpgKanx"
      },
      "execution_count": 9,
      "outputs": []
    },
    {
      "cell_type": "markdown",
      "source": [
        "## Create Resnet Tensorflow hub feature extraction model"
      ],
      "metadata": {
        "id": "eDAEhln4S2P_"
      }
    },
    {
      "cell_type": "code",
      "source": [
        "# Create model\n",
        "resnet_model = create_model(resnet_url,\n",
        "              num_classes=train_data_10_percent.num_classes)"
      ],
      "metadata": {
        "id": "2Df4FmJwSy0L"
      },
      "execution_count": 10,
      "outputs": []
    },
    {
      "cell_type": "code",
      "source": [
        "resnet_model.summary()"
      ],
      "metadata": {
        "colab": {
          "base_uri": "https://localhost:8080/"
        },
        "id": "zJH4XdxzK9T0",
        "outputId": "e6a5c360-3ff4-49e1-eb77-89b1ffeea580"
      },
      "execution_count": 11,
      "outputs": [
        {
          "output_type": "stream",
          "name": "stdout",
          "text": [
            "Model: \"sequential\"\n",
            "_________________________________________________________________\n",
            " Layer (type)                Output Shape              Param #   \n",
            "=================================================================\n",
            " feature_extraction_layer (K  (None, 2048)             23564800  \n",
            " erasLayer)                                                      \n",
            "                                                                 \n",
            " output_layer (Dense)        (None, 10)                20490     \n",
            "                                                                 \n",
            "=================================================================\n",
            "Total params: 23,585,290\n",
            "Trainable params: 20,490\n",
            "Non-trainable params: 23,564,800\n",
            "_________________________________________________________________\n"
          ]
        }
      ]
    },
    {
      "cell_type": "code",
      "source": [
        "# compile the model\n",
        "resnet_model.compile(loss = \"categorical_crossentropy\",\n",
        "          optimizer = Adam(),\n",
        "          metrics = [\"accuracy\"])"
      ],
      "metadata": {
        "id": "BETFLtrTLZl4"
      },
      "execution_count": 15,
      "outputs": []
    },
    {
      "cell_type": "code",
      "source": [
        "history_1 = resnet_model.fit(train_data_10_percent,\n",
        "              epochs=5,\n",
        "              steps_per_epoch=len(train_data_10_percent),\n",
        "              validation_data=test_data,\n",
        "              callbacks=[create_tensorboard_callback(dir_name=\"tensorflow_hub\",\n",
        "                                  experiment_name=\"resnet50V2\")],\n",
        "              validation_steps=len(test_data))"
      ],
      "metadata": {
        "colab": {
          "base_uri": "https://localhost:8080/"
        },
        "id": "HLZl9KIKLxpd",
        "outputId": "e9423947-8f09-4911-bc08-d88e4dacb425"
      },
      "execution_count": 16,
      "outputs": [
        {
          "output_type": "stream",
          "name": "stdout",
          "text": [
            "Saving TensorBoard log files to: tensorflow_hub/resnet50V2/20221018-174621\n",
            "Epoch 1/5\n",
            "24/24 [==============================] - 29s 749ms/step - loss: 1.9372 - accuracy: 0.3720 - val_loss: 1.2021 - val_accuracy: 0.6280\n",
            "Epoch 2/5\n",
            "24/24 [==============================] - 16s 677ms/step - loss: 0.9180 - accuracy: 0.7387 - val_loss: 0.8711 - val_accuracy: 0.7276\n",
            "Epoch 3/5\n",
            "24/24 [==============================] - 16s 676ms/step - loss: 0.6403 - accuracy: 0.8133 - val_loss: 0.7454 - val_accuracy: 0.7640\n",
            "Epoch 4/5\n",
            "24/24 [==============================] - 16s 674ms/step - loss: 0.4857 - accuracy: 0.8587 - val_loss: 0.7100 - val_accuracy: 0.7688\n",
            "Epoch 5/5\n",
            "24/24 [==============================] - 16s 678ms/step - loss: 0.3885 - accuracy: 0.8973 - val_loss: 0.6679 - val_accuracy: 0.7876\n"
          ]
        }
      ]
    },
    {
      "cell_type": "code",
      "source": [
        "def plot_loss_curves(history):\n",
        "  \"\"\"\n",
        "  Return separate loss curves for training and validation metrics\n",
        "  \"\"\"\n",
        "  loss=history.history[\"loss\"]\n",
        "  val_loss=history.history[\"val_loss\"]\n",
        "  accuracy=history.history[\"accuracy\"]\n",
        "  val_accuracy=history.history[\"val_accuracy\"]\n",
        "  epochs=range(len(history.history[\"loss\"]))\n",
        "\n",
        "  # plot loss\n",
        "  plt.figure()\n",
        "  plt.plot(epochs,loss,label=\"training_loss\")\n",
        "  plt.plot(epochs,val_loss,label=\"val_loss\")\n",
        "  plt.title(\"loss\")\n",
        "  plt.xlabel(\"epochs\")\n",
        "  plt.legend()\n",
        "\n",
        "  # plot accuracy\n",
        "  plt.figure()\n",
        "  plt.plot(epochs,accuracy,label=\"training_accuracy\")\n",
        "  plt.plot(epochs,val_accuracy,label=\"val_accuracy\")\n",
        "  plt.title(\"accuracy\")\n",
        "  plt.xlabel(\"epochs\")\n",
        "  plt.legend()"
      ],
      "metadata": {
        "id": "Ox7NEd_qOeuY"
      },
      "execution_count": 17,
      "outputs": []
    },
    {
      "cell_type": "code",
      "source": [
        "plot_loss_curves(history_1)"
      ],
      "metadata": {
        "colab": {
          "base_uri": "https://localhost:8080/",
          "height": 573
        },
        "id": "HtTCfZbVOgex",
        "outputId": "dbb147f9-90e3-4e06-b4a3-68894ae804c4"
      },
      "execution_count": 18,
      "outputs": [
        {
          "output_type": "display_data",
          "data": {
            "text/plain": [
              "<Figure size 432x288 with 1 Axes>"
            ],
            "image/png": "[encoded data removed]"
          },
          "metadata": {
            "needs_background": "light"
          }
        },
        {
          "output_type": "display_data",
          "data": {
            "text/plain": [
              "<Figure size 432x288 with 1 Axes>"
            ],
            "image/png": "[encoded data removed]"
          },
          "metadata": {
            "needs_background": "light"
          }
        }
      ]
    },
    {
      "cell_type": "markdown",
      "source": [
        "## Create EfficientnetB0 Tensorflow hub feature extraction model"
      ],
      "metadata": {
        "id": "fOqMeeeiZ6IK"
      }
    },
    {
      "cell_type": "code",
      "source": [
        "# Create EfficientNetB0 feature extractor model\n",
        "efficientnet_model = create_model(model_url=efficientnet_url,\n",
        "                  num_classes=train_data_10_percent.num_classes)\n",
        "\n",
        "# Compile EfficientNet model\n",
        "# compile the model\n",
        "efficientnet_model.compile(loss = \"categorical_crossentropy\",\n",
        "          optimizer = Adam(),\n",
        "          metrics = [\"accuracy\"])\n",
        "\n",
        "efficient_history = efficientnet_model.fit(train_data_10_percent,\n",
        "              epochs=5,\n",
        "              steps_per_epoch=len(train_data_10_percent),\n",
        "              validation_data=test_data,\n",
        "              callbacks=[create_tensorboard_callback(dir_name=\"tensorflow_hub\",\n",
        "                                  experiment_name=\"efficientnetb0\")],\n",
        "              validation_steps=len(test_data))"
      ],
      "metadata": {
        "colab": {
          "base_uri": "https://localhost:8080/"
        },
        "id": "UtSziT4AZ7v3",
        "outputId": "f05d67bd-a214-4ca9-e013-489db7256dca"
      },
      "execution_count": 19,
      "outputs": [
        {
          "output_type": "stream",
          "name": "stdout",
          "text": [
            "Saving TensorBoard log files to: tensorflow_hub/efficientnetb0/20221018-184753\n",
            "Epoch 1/5\n",
            "24/24 [==============================] - 26s 750ms/step - loss: 1.8754 - accuracy: 0.4213 - val_loss: 1.3461 - val_accuracy: 0.7128\n",
            "Epoch 2/5\n",
            "24/24 [==============================] - 15s 664ms/step - loss: 1.0741 - accuracy: 0.7627 - val_loss: 0.8882 - val_accuracy: 0.8176\n",
            "Epoch 3/5\n",
            "24/24 [==============================] - 15s 662ms/step - loss: 0.7632 - accuracy: 0.8320 - val_loss: 0.7114 - val_accuracy: 0.8372\n",
            "Epoch 4/5\n",
            "24/24 [==============================] - 16s 670ms/step - loss: 0.6089 - accuracy: 0.8693 - val_loss: 0.6185 - val_accuracy: 0.8528\n",
            "Epoch 5/5\n",
            "24/24 [==============================] - 16s 671ms/step - loss: 0.5126 - accuracy: 0.8920 - val_loss: 0.5654 - val_accuracy: 0.8624\n"
          ]
        }
      ]
    },
    {
      "cell_type": "code",
      "source": [
        "plot_loss_curves(efficient_history)"
      ],
      "metadata": {
        "colab": {
          "base_uri": "https://localhost:8080/",
          "height": 573
        },
        "id": "j1F8xB4dfavA",
        "outputId": "828ac5cf-1b06-4de7-c77a-c37609dbe6d3"
      },
      "execution_count": 20,
      "outputs": [
        {
          "output_type": "display_data",
          "data": {
            "text/plain": [
              "<Figure size 432x288 with 1 Axes>"
            ],
            "image/png": "[encoded data removed]"
          },
          "metadata": {
            "needs_background": "light"
          }
        },
        {
          "output_type": "display_data",
          "data": {
            "text/plain": [
              "<Figure size 432x288 with 1 Axes>"
            ],
            "image/png": "[encoded data removed]"
          },
          "metadata": {
            "needs_background": "light"
          }
        }
      ]
    },
    {
      "cell_type": "markdown",
      "source": [
        "## Different types of transfer learning\n",
        "\n",
        "* \"As is\" transfer learning - using an existing model with no changes what so ever\n",
        "* \"Feature extraction\" - use the pretrained patterns of an existing model (e.g. EfficientNetB0/Resnet) and adjust the output layer for your own problem\n",
        "* \"Fine-tuning\" Transfer learning - use the prelearned patterns of an existing model and \"fine-tune\" many or all of the underlying layers (including new output layers)"
      ],
      "metadata": {
        "id": "kQeSnVc0tPuf"
      }
    },
    {
      "cell_type": "code",
      "source": [
        "# the number of layers of efficientnetb0\n",
        "len(efficientnet_model.layers[0].weights)"
      ],
      "metadata": {
        "colab": {
          "base_uri": "https://localhost:8080/"
        },
        "id": "B9O1qffTtsiZ",
        "outputId": "1c0b0af7-7c46-4bc4-86fd-0234242a639b"
      },
      "execution_count": 23,
      "outputs": [
        {
          "output_type": "execute_result",
          "data": {
            "text/plain": [
              "309"
            ]
          },
          "metadata": {},
          "execution_count": 23
        }
      ]
    },
    {
      "cell_type": "markdown",
      "source": [
        "## Compare model results using tensorboard\n",
        "\n",
        "When upload to Tensorboard.dev, your experiments are public"
      ],
      "metadata": {
        "id": "YGRu7_Kj376G"
      }
    },
    {
      "cell_type": "code",
      "source": [
        "# Upload tensorboard dev records\n",
        "!tensorboard dev upload --logdir ./tensorflow_hub/ \\\n",
        " --name \"EfficientNetB0 vx. ResNet50V2\" \\\n",
        " --description \"Comparing two different TF Hub feature extraction model architecture using 10% of the training data\" \\\n",
        " --one_shot"
      ],
      "metadata": {
        "colab": {
          "base_uri": "https://localhost:8080/"
        },
        "id": "jbetWr2u6qFj",
        "outputId": "2d837706-4350-4c25-b3b5-dd3596e701a8"
      },
      "execution_count": 24,
      "outputs": [
        {
          "output_type": "stream",
          "name": "stdout",
          "text": [
            "\n",
            "***** TensorBoard Uploader *****\n",
            "\n",
            "This will upload your TensorBoard logs to https://tensorboard.dev/ from\n",
            "the following directory:\n",
            "\n",
            "./tensorflow_hub/\n",
            "\n",
            "This TensorBoard will be visible to everyone. Do not upload sensitive\n",
            "data.\n",
            "\n",
            "Your use of this service is subject to Google's Terms of Service\n",
            "<https://policies.google.com/terms> and Privacy Policy\n",
            "<https://policies.google.com/privacy>, and TensorBoard.dev's Terms of Service\n",
            "<https://tensorboard.dev/policy/terms/>.\n",
            "\n",
            "This notice will not be shown again while you are logged into the uploader.\n",
            "To log out, run `tensorboard dev auth revoke`.\n",
            "\n",
            "Continue? (yes/NO) yes\n",
            "\n",
            "Please visit this URL to authorize this application: https://accounts.google.com/o/oauth2/auth?response_type=code&client_id=373649185512-8v619h5kft38l4456nm2dj4ubeqsrvh6.apps.googleusercontent.com&redirect_uri=urn%3Aietf%3Awg%3Aoauth%3A2.0%3Aoob&scope=openid+https%3A%2F%2Fwww.googleapis.com%2Fauth%2Fuserinfo.email&state=g3RZeZzOuanEtdanShRMsTarHFHTGF&prompt=consent&access_type=offline\n",
            "Enter the authorization code: 4/1ARtbsJq-nO0bpvOfD4sE1ePeR64hgLjwGXlyGgsgXkZceedtJhsP_NjnszI\n",
            "\n",
            "\n",
            "New experiment created. View your TensorBoard at: https://tensorboard.dev/experiment/TQyXix7JQcK3zgXf6peoJQ/\n",
            "\n",
            "\u001b[1m[2022-10-18T21:09:39]\u001b[0m Started scanning logdir.\n",
            "\u001b[1m[2022-10-18T21:09:43]\u001b[0m Total uploaded: 60 scalars, 0 tensors, 2 binary objects (5.6 MB)\n",
            "\u001b[1m[2022-10-18T21:09:43]\u001b[0m Done scanning logdir.\n",
            "\n",
            "\n",
            "Done. View your TensorBoard at https://tensorboard.dev/experiment/TQyXix7JQcK3zgXf6peoJQ/\n"
          ]
        }
      ]
    },
    {
      "cell_type": "code",
      "source": [
        "# tensorboard experiments are uploaded publically : https://tensorboard.dev/experiment/TQyXix7JQcK3zgXf6peoJQ/\n",
        "\n",
        "# check out what tensor experiments I have\n",
        "!tensorboard dev list"
      ],
      "metadata": {
        "colab": {
          "base_uri": "https://localhost:8080/"
        },
        "id": "iA_FLVDE7Pql",
        "outputId": "cd13b5db-722e-4fb3-fcf8-e6e96c944b2c"
      },
      "execution_count": 25,
      "outputs": [
        {
          "output_type": "stream",
          "name": "stdout",
          "text": [
            "https://tensorboard.dev/experiment/TQyXix7JQcK3zgXf6peoJQ/\n",
            "\tName                 EfficientNetB0 vx. ResNet50V2\n",
            "\tDescription          Comparing two different TF Hub feature extraction model architecture using 10% of the training data\n",
            "\tId                   TQyXix7JQcK3zgXf6peoJQ\n",
            "\tCreated              2022-10-18 21:09:38 (17 minutes ago)\n",
            "\tUpdated              2022-10-18 21:09:43 (16 minutes ago)\n",
            "\tRuns                 4\n",
            "\tTags                 5\n",
            "\tScalars              60\n",
            "\tTensor bytes         0\n",
            "\tBinary object bytes  5918715\n",
            "Total: 1 experiment(s)\n"
          ]
        }
      ]
    },
    {
      "cell_type": "code",
      "source": [
        "# delete an experiment\n",
        "#!tensorboard dev delete --experimennt_id TQyXix7JQcK3zgXf6peoJQ"
      ],
      "metadata": {
        "id": "Pliq8C6r_h6x"
      },
      "execution_count": null,
      "outputs": []
    }
  ]
}