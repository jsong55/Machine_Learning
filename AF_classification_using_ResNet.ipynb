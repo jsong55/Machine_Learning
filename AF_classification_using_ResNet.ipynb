{
  "nbformat": 4,
  "nbformat_minor": 0,
  "metadata": {
    "colab": {
      "provenance": [],
      "include_colab_link": true
    },
    "kernelspec": {
      "name": "python3",
      "display_name": "Python 3"
    },
    "language_info": {
      "name": "python"
    },
    "accelerator": "GPU",
    "gpuClass": "standard"
  },
  "cells": [
    {
      "cell_type": "markdown",
      "metadata": {
        "id": "view-in-github",
        "colab_type": "text"
      },
      "source": [
        "<a href=\"https://colab.research.google.com/github/jsong55/Machine_Learning/blob/master/AF_classification_using_ResNet.ipynb\" target=\"_parent\"><img src=\"https://colab.research.google.com/assets/colab-badge.svg\" alt=\"Open In Colab\"/></a>"
      ]
    },
    {
      "cell_type": "code",
      "execution_count": 1,
      "metadata": {
        "id": "AyIpawRDMzPD"
      },
      "outputs": [],
      "source": [
        "import zipfile\n",
        "import os\n",
        "import random\n",
        "import tensorflow as tf\n",
        "import pathlib\n",
        "import numpy as np\n",
        "import matplotlib.pyplot as plt\n",
        "import matplotlib.image as mpimg\n",
        "from tensorflow.keras.preprocessing.image import ImageDataGenerator\n",
        "from tensorflow.keras.optimizers import Adam\n",
        "from tensorflow.keras.layers import Dense, Flatten, Conv2D, MaxPool2D, Activation\n",
        "from tensorflow.keras import Sequential, layers\n",
        "from tensorflow import keras\n",
        "from tensorflow.keras.layers.experimental import preprocessing\n",
        "import datetime\n",
        "import tensorflow_hub as hub"
      ]
    },
    {
      "cell_type": "code",
      "source": [
        "from google.colab import drive\n",
        "drive.mount('/content/drive')"
      ],
      "metadata": {
        "colab": {
          "base_uri": "https://localhost:8080/"
        },
        "id": "bCJ-a4tsUxMw",
        "outputId": "a9f151de-edb3-41dd-b4b6-f0bd22bc13c9"
      },
      "execution_count": 2,
      "outputs": [
        {
          "output_type": "stream",
          "name": "stdout",
          "text": [
            "Mounted at /content/drive\n"
          ]
        }
      ]
    },
    {
      "cell_type": "code",
      "source": [
        "!wget https://raw.githubusercontent.com/jsong55/Machine_Learning/master/TF_functions.py\n",
        "from TF_functions import create_tensorboard_callback, plot_loss_curves, unzip_data, walk_through_dir, view_random_image"
      ],
      "metadata": {
        "colab": {
          "base_uri": "https://localhost:8080/"
        },
        "id": "PIvzZ6-2M238",
        "outputId": "8f3d735d-4ff4-4815-a159-a5ad870b947e"
      },
      "execution_count": 3,
      "outputs": [
        {
          "output_type": "stream",
          "name": "stdout",
          "text": [
            "--2022-10-24 00:10:27--  https://raw.githubusercontent.com/jsong55/Machine_Learning/master/TF_functions.py\n",
            "Resolving raw.githubusercontent.com (raw.githubusercontent.com)... 185.199.108.133, 185.199.109.133, 185.199.110.133, ...\n",
            "Connecting to raw.githubusercontent.com (raw.githubusercontent.com)|185.199.108.133|:443... connected.\n",
            "HTTP request sent, awaiting response... 200 OK\n",
            "Length: 10747 (10K) [text/plain]\n",
            "Saving to: ‘TF_functions.py’\n",
            "\n",
            "\rTF_functions.py       0%[                    ]       0  --.-KB/s               \rTF_functions.py     100%[===================>]  10.50K  --.-KB/s    in 0s      \n",
            "\n",
            "2022-10-24 00:10:28 (68.2 MB/s) - ‘TF_functions.py’ saved [10747/10747]\n",
            "\n"
          ]
        }
      ]
    },
    {
      "cell_type": "code",
      "source": [
        "zip_ref = zipfile.ZipFile(\"/content/drive/MyDrive/python_torturial/NW_image_quality_50tests_rgb.zip\",\"r\")\n",
        "zip_ref.extractall()\n",
        "zip_ref.close()\n",
        "\n",
        "# Setup the train and test directories\n",
        "train_dir = \"NW_image_quality_50tests_rgb/train/\"\n",
        "test_dir = \"NW_image_quality_50tests_rgb/test/\"\n",
        "# visualize\n",
        "data_dir = pathlib.Path(train_dir)\n",
        "class_names = np.array(sorted([item.name for item in data_dir.glob('*')]))\n",
        "class_names\n",
        "\n",
        "img = view_random_image(target_dir=train_dir,\n",
        "              target_class=random.choice(class_names))"
      ],
      "metadata": {
        "colab": {
          "base_uri": "https://localhost:8080/",
          "height": 282
        },
        "id": "ncJFWZlHM4AA",
        "outputId": "127231fd-9ffa-4e17-c30c-b8914a602955"
      },
      "execution_count": 4,
      "outputs": [
        {
          "output_type": "stream",
          "name": "stdout",
          "text": [
            "image shape: (150, 150, 3)\n"
          ]
        },
        {
          "output_type": "display_data",
          "data": {
            "text/plain": [
              "<Figure size 432x288 with 1 Axes>"
            ],
            "image/png": "[encoded data removed]"
          },
          "metadata": {
            "needs_background": "light"
          }
        }
      ]
    },
    {
      "cell_type": "code",
      "source": [
        "IMAGE_SIZE = (150,150)\n",
        "train_data = tf.keras.preprocessing.image_dataset_from_directory(directory=train_dir,\n",
        "                                        image_size=IMAGE_SIZE,\n",
        "                                        label_mode=\"categorical\",\n",
        "                                        batch_size=32,\n",
        "                                        shuffle=True)\n",
        "\n",
        "test_data = tf.keras.preprocessing.image_dataset_from_directory(directory=test_dir,\n",
        "                                  image_size=IMAGE_SIZE,\n",
        "                                  label_mode=\"categorical\",\n",
        "                                  batch_size=32)"
      ],
      "metadata": {
        "id": "-n-_Kyb_UTvV",
        "colab": {
          "base_uri": "https://localhost:8080/"
        },
        "outputId": "86d7d29e-adcb-4085-b37a-368ad7300acb"
      },
      "execution_count": 5,
      "outputs": [
        {
          "output_type": "stream",
          "name": "stdout",
          "text": [
            "Found 2988 files belonging to 5 classes.\n",
            "Found 1200 files belonging to 5 classes.\n"
          ]
        }
      ]
    },
    {
      "cell_type": "code",
      "source": [
        "data_augmentation = keras.Sequential([\n",
        "    preprocessing.RandomFlip(\"horizontal\"),\n",
        "    preprocessing.RandomRotation(0.2),\n",
        "    preprocessing.RandomZoom(0.2),\n",
        "    preprocessing.RandomHeight(0.2),\n",
        "    preprocessing.Rescaling(1./255) #need for resnet but not for efficientnet\n",
        "],name=\"data_augmentation\")"
      ],
      "metadata": {
        "id": "v9pknlY9VIlB"
      },
      "execution_count": 6,
      "outputs": []
    },
    {
      "cell_type": "code",
      "source": [
        "# 1. Create base model with tf.keras.applications\n",
        "base_model = tf.keras.applications.ResNet50(include_top=False)\n",
        "# Check the layers in our base model\n",
        "#for layer_number, layer in enumerate(base_model.layers):\n",
        "#  print(layer_number, layer.name)\n",
        "\n",
        "# The model contains a noramlization and rescaling layer\n",
        "\n",
        "# 2. Free the base model (the underlying pre-trained patterns aren't updated during training)\n",
        "base_model.trainable = False\n",
        "\n",
        "# 3. Create inputs into our model\n",
        "inputs = tf.keras.layers.Input(shape=(150,150,3),name=\"input_layer\")\n",
        "\n",
        "# 4. If using a model like ResNet50V2, you will need to noramlize inputs\n",
        "# x = tf.keras.layers.experimental.preprocessing.Rescaling(1./255)(inputs)\n",
        "\n",
        "# 5. Pass the inputs to the base_model\n",
        "x = data_augmentation(inputs)\n",
        "# Give base model the inputs (after augmentation) and don't train it\n",
        "x = base_model(x,training=False)\n",
        "\n",
        "# 6. Average pool the outputs of the base model (aggregate all the most important information, reduce number of computations)\n",
        "x = tf.keras.layers.GlobalAveragePooling2D(name=\"global_average_pooling_layer\")(x)\n",
        "print(f\"Shape after GlobalAveragePooling2D: {x.shape}\")\n",
        "\n",
        "# 7. Create the output activation layer\n",
        "outputs = tf.keras.layers.Dense(5,activation=\"softmax\",name=\"output_layer\")(x)\n",
        "\n",
        "# 8. Combine the inputs with the outputs into a model\n",
        "model_0 = tf.keras.Model(inputs, outputs)\n",
        "\n",
        "# 9. Compile the model\n",
        "model_0.compile(loss=\"categorical_crossentropy\",\n",
        "        optimizer = Adam(),\n",
        "        metrics=[\"accuracy\"])\n",
        "\n",
        "# 10. Fit the model and save the history\n",
        "history_0 = model_0.fit(train_data,\n",
        "                  epochs=50,\n",
        "                  steps_per_epoch=len(train_data),\n",
        "                  validation_data=test_data,\n",
        "                  validation_steps=int(0.1*len(test_data)),\n",
        "                  callbacks=[create_tensorboard_callback(dir_name=\"ResNet50\",\n",
        "                                      experiment_name=\"ResNet_Test1\")])"
      ],
      "metadata": {
        "id": "vSnDHCjRUVcq",
        "colab": {
          "base_uri": "https://localhost:8080/"
        },
        "outputId": "695d9f7d-8290-429f-ce40-ae574c0ff601"
      },
      "execution_count": 10,
      "outputs": [
        {
          "output_type": "stream",
          "name": "stdout",
          "text": [
            "Shape after GlobalAveragePooling2D: (None, 2048)\n",
            "Saving TensorBoard log files to: ResNet50/ResNet_Test1/20221024-001542\n",
            "Epoch 1/50\n",
            "94/94 [==============================] - 13s 100ms/step - loss: 1.6244 - accuracy: 0.2018 - val_loss: 1.5892 - val_accuracy: 0.1979\n",
            "Epoch 2/50\n",
            "94/94 [==============================] - 9s 90ms/step - loss: 1.6111 - accuracy: 0.2232 - val_loss: 1.5788 - val_accuracy: 0.3750\n",
            "Epoch 3/50\n",
            "94/94 [==============================] - 9s 93ms/step - loss: 1.6045 - accuracy: 0.2356 - val_loss: 1.5830 - val_accuracy: 0.1667\n",
            "Epoch 4/50\n",
            "94/94 [==============================] - 9s 93ms/step - loss: 1.6062 - accuracy: 0.2366 - val_loss: 1.5814 - val_accuracy: 0.3646\n",
            "Epoch 5/50\n",
            "94/94 [==============================] - 9s 91ms/step - loss: 1.5930 - accuracy: 0.2533 - val_loss: 1.5954 - val_accuracy: 0.2708\n",
            "Epoch 6/50\n",
            "94/94 [==============================] - 9s 90ms/step - loss: 1.5897 - accuracy: 0.2450 - val_loss: 1.5509 - val_accuracy: 0.2708\n",
            "Epoch 7/50\n",
            "94/94 [==============================] - 9s 91ms/step - loss: 1.5867 - accuracy: 0.2580 - val_loss: 1.5763 - val_accuracy: 0.2396\n",
            "Epoch 8/50\n",
            "94/94 [==============================] - 9s 94ms/step - loss: 1.5773 - accuracy: 0.2744 - val_loss: 1.5540 - val_accuracy: 0.3333\n",
            "Epoch 9/50\n",
            "94/94 [==============================] - 9s 91ms/step - loss: 1.5715 - accuracy: 0.2641 - val_loss: 1.5559 - val_accuracy: 0.3646\n",
            "Epoch 10/50\n",
            "94/94 [==============================] - 9s 92ms/step - loss: 1.5620 - accuracy: 0.2915 - val_loss: 1.5635 - val_accuracy: 0.2292\n",
            "Epoch 11/50\n",
            "94/94 [==============================] - 10s 101ms/step - loss: 1.5593 - accuracy: 0.2932 - val_loss: 1.5350 - val_accuracy: 0.2812\n",
            "Epoch 12/50\n",
            "94/94 [==============================] - 9s 92ms/step - loss: 1.5626 - accuracy: 0.2815 - val_loss: 1.5409 - val_accuracy: 0.2917\n",
            "Epoch 13/50\n",
            "94/94 [==============================] - 9s 93ms/step - loss: 1.5605 - accuracy: 0.2818 - val_loss: 1.5072 - val_accuracy: 0.2917\n",
            "Epoch 14/50\n",
            "94/94 [==============================] - 9s 91ms/step - loss: 1.5458 - accuracy: 0.3116 - val_loss: 1.5251 - val_accuracy: 0.3646\n",
            "Epoch 15/50\n",
            "94/94 [==============================] - 9s 93ms/step - loss: 1.5420 - accuracy: 0.3099 - val_loss: 1.4932 - val_accuracy: 0.3854\n",
            "Epoch 16/50\n",
            "94/94 [==============================] - 9s 91ms/step - loss: 1.5350 - accuracy: 0.3183 - val_loss: 1.4952 - val_accuracy: 0.4271\n",
            "Epoch 17/50\n",
            "94/94 [==============================] - 8s 89ms/step - loss: 1.5362 - accuracy: 0.3086 - val_loss: 1.4840 - val_accuracy: 0.4479\n",
            "Epoch 18/50\n",
            "94/94 [==============================] - 9s 91ms/step - loss: 1.5275 - accuracy: 0.3313 - val_loss: 1.4700 - val_accuracy: 0.3750\n",
            "Epoch 19/50\n",
            "94/94 [==============================] - 8s 89ms/step - loss: 1.5254 - accuracy: 0.3126 - val_loss: 1.5256 - val_accuracy: 0.3229\n",
            "Epoch 20/50\n",
            "94/94 [==============================] - 9s 90ms/step - loss: 1.5283 - accuracy: 0.3233 - val_loss: 1.4927 - val_accuracy: 0.4271\n",
            "Epoch 21/50\n",
            "94/94 [==============================] - 9s 91ms/step - loss: 1.5157 - accuracy: 0.3236 - val_loss: 1.5018 - val_accuracy: 0.4062\n",
            "Epoch 22/50\n",
            "94/94 [==============================] - 9s 91ms/step - loss: 1.5172 - accuracy: 0.3220 - val_loss: 1.5030 - val_accuracy: 0.3438\n",
            "Epoch 23/50\n",
            "94/94 [==============================] - 9s 94ms/step - loss: 1.5144 - accuracy: 0.3313 - val_loss: 1.5061 - val_accuracy: 0.2812\n",
            "Epoch 24/50\n",
            "94/94 [==============================] - 9s 97ms/step - loss: 1.5072 - accuracy: 0.3434 - val_loss: 1.4580 - val_accuracy: 0.3958\n",
            "Epoch 25/50\n",
            "94/94 [==============================] - 9s 89ms/step - loss: 1.5007 - accuracy: 0.3240 - val_loss: 1.4655 - val_accuracy: 0.3438\n",
            "Epoch 26/50\n",
            "94/94 [==============================] - 9s 93ms/step - loss: 1.5019 - accuracy: 0.3273 - val_loss: 1.4310 - val_accuracy: 0.3854\n",
            "Epoch 27/50\n",
            "94/94 [==============================] - 9s 90ms/step - loss: 1.4942 - accuracy: 0.3387 - val_loss: 1.4921 - val_accuracy: 0.4167\n",
            "Epoch 28/50\n",
            "94/94 [==============================] - 9s 92ms/step - loss: 1.4972 - accuracy: 0.3390 - val_loss: 1.4792 - val_accuracy: 0.3333\n",
            "Epoch 29/50\n",
            "94/94 [==============================] - 9s 92ms/step - loss: 1.4973 - accuracy: 0.3477 - val_loss: 1.4774 - val_accuracy: 0.2812\n",
            "Epoch 30/50\n",
            "94/94 [==============================] - 9s 92ms/step - loss: 1.4897 - accuracy: 0.3571 - val_loss: 1.4625 - val_accuracy: 0.3854\n",
            "Epoch 31/50\n",
            "94/94 [==============================] - 9s 91ms/step - loss: 1.4839 - accuracy: 0.3377 - val_loss: 1.4654 - val_accuracy: 0.3646\n",
            "Epoch 32/50\n",
            "94/94 [==============================] - 9s 92ms/step - loss: 1.4804 - accuracy: 0.3645 - val_loss: 1.4463 - val_accuracy: 0.4271\n",
            "Epoch 33/50\n",
            "94/94 [==============================] - 9s 92ms/step - loss: 1.4755 - accuracy: 0.3511 - val_loss: 1.4526 - val_accuracy: 0.3229\n",
            "Epoch 34/50\n",
            "94/94 [==============================] - 9s 91ms/step - loss: 1.4820 - accuracy: 0.3394 - val_loss: 1.4457 - val_accuracy: 0.3229\n",
            "Epoch 35/50\n",
            "94/94 [==============================] - 9s 92ms/step - loss: 1.4733 - accuracy: 0.3635 - val_loss: 1.4290 - val_accuracy: 0.4271\n",
            "Epoch 36/50\n",
            "94/94 [==============================] - 10s 102ms/step - loss: 1.4750 - accuracy: 0.3484 - val_loss: 1.4275 - val_accuracy: 0.4167\n",
            "Epoch 37/50\n",
            "94/94 [==============================] - 9s 93ms/step - loss: 1.4703 - accuracy: 0.3641 - val_loss: 1.4217 - val_accuracy: 0.3958\n",
            "Epoch 38/50\n",
            "94/94 [==============================] - 9s 92ms/step - loss: 1.4675 - accuracy: 0.3417 - val_loss: 1.4456 - val_accuracy: 0.2917\n",
            "Epoch 39/50\n",
            "94/94 [==============================] - 9s 92ms/step - loss: 1.4638 - accuracy: 0.3501 - val_loss: 1.4535 - val_accuracy: 0.3021\n",
            "Epoch 40/50\n",
            "94/94 [==============================] - 9s 92ms/step - loss: 1.4570 - accuracy: 0.3768 - val_loss: 1.4323 - val_accuracy: 0.3646\n",
            "Epoch 41/50\n",
            "94/94 [==============================] - 9s 93ms/step - loss: 1.4530 - accuracy: 0.3624 - val_loss: 1.4069 - val_accuracy: 0.4479\n",
            "Epoch 42/50\n",
            "94/94 [==============================] - 9s 92ms/step - loss: 1.4639 - accuracy: 0.3521 - val_loss: 1.4271 - val_accuracy: 0.4583\n",
            "Epoch 43/50\n",
            "94/94 [==============================] - 9s 92ms/step - loss: 1.4515 - accuracy: 0.3624 - val_loss: 1.4392 - val_accuracy: 0.2917\n",
            "Epoch 44/50\n",
            "94/94 [==============================] - 9s 91ms/step - loss: 1.4472 - accuracy: 0.3695 - val_loss: 1.4227 - val_accuracy: 0.3750\n",
            "Epoch 45/50\n",
            "94/94 [==============================] - 9s 90ms/step - loss: 1.4460 - accuracy: 0.3795 - val_loss: 1.4293 - val_accuracy: 0.3750\n",
            "Epoch 46/50\n",
            "94/94 [==============================] - 9s 90ms/step - loss: 1.4528 - accuracy: 0.3645 - val_loss: 1.4334 - val_accuracy: 0.3229\n",
            "Epoch 47/50\n",
            "94/94 [==============================] - 9s 90ms/step - loss: 1.4370 - accuracy: 0.3718 - val_loss: 1.4067 - val_accuracy: 0.3854\n",
            "Epoch 48/50\n",
            "94/94 [==============================] - 10s 102ms/step - loss: 1.4345 - accuracy: 0.3735 - val_loss: 1.4083 - val_accuracy: 0.3958\n",
            "Epoch 49/50\n",
            "94/94 [==============================] - 9s 91ms/step - loss: 1.4337 - accuracy: 0.3715 - val_loss: 1.3806 - val_accuracy: 0.4062\n",
            "Epoch 50/50\n",
            "94/94 [==============================] - 9s 90ms/step - loss: 1.4383 - accuracy: 0.3728 - val_loss: 1.3449 - val_accuracy: 0.4583\n"
          ]
        }
      ]
    },
    {
      "cell_type": "code",
      "source": [
        "plot_loss_curves(history_0)"
      ],
      "metadata": {
        "colab": {
          "base_uri": "https://localhost:8080/",
          "height": 573
        },
        "id": "Q4i1Vo4-Zwlx",
        "outputId": "fde74acf-2dea-4c78-a3f9-b99e7fd62c21"
      },
      "execution_count": 11,
      "outputs": [
        {
          "output_type": "display_data",
          "data": {
            "text/plain": [
              "<Figure size 432x288 with 1 Axes>"
            ],
            "image/png": "[encoded data removed]"
          },
          "metadata": {
            "needs_background": "light"
          }
        },
        {
          "output_type": "display_data",
          "data": {
            "text/plain": [
              "<Figure size 432x288 with 1 Axes>"
            ],
            "image/png": "[encoded data removed]"
          },
          "metadata": {
            "needs_background": "light"
          }
        }
      ]
    },
    {
      "cell_type": "code",
      "source": [
        "for layer_number, layer in enumerate(base_model.layers):\n",
        "  print(layer_number, layer.name)"
      ],
      "metadata": {
        "colab": {
          "base_uri": "https://localhost:8080/"
        },
        "id": "4mjEm4ILWCTx",
        "outputId": "b1145787-4ead-4a1c-f260-20c332dca3ac"
      },
      "execution_count": 9,
      "outputs": [
        {
          "output_type": "stream",
          "name": "stdout",
          "text": [
            "0 input_1\n",
            "1 conv1_pad\n",
            "2 conv1_conv\n",
            "3 conv1_bn\n",
            "4 conv1_relu\n",
            "5 pool1_pad\n",
            "6 pool1_pool\n",
            "7 conv2_block1_1_conv\n",
            "8 conv2_block1_1_bn\n",
            "9 conv2_block1_1_relu\n",
            "10 conv2_block1_2_conv\n",
            "11 conv2_block1_2_bn\n",
            "12 conv2_block1_2_relu\n",
            "13 conv2_block1_0_conv\n",
            "14 conv2_block1_3_conv\n",
            "15 conv2_block1_0_bn\n",
            "16 conv2_block1_3_bn\n",
            "17 conv2_block1_add\n",
            "18 conv2_block1_out\n",
            "19 conv2_block2_1_conv\n",
            "20 conv2_block2_1_bn\n",
            "21 conv2_block2_1_relu\n",
            "22 conv2_block2_2_conv\n",
            "23 conv2_block2_2_bn\n",
            "24 conv2_block2_2_relu\n",
            "25 conv2_block2_3_conv\n",
            "26 conv2_block2_3_bn\n",
            "27 conv2_block2_add\n",
            "28 conv2_block2_out\n",
            "29 conv2_block3_1_conv\n",
            "30 conv2_block3_1_bn\n",
            "31 conv2_block3_1_relu\n",
            "32 conv2_block3_2_conv\n",
            "33 conv2_block3_2_bn\n",
            "34 conv2_block3_2_relu\n",
            "35 conv2_block3_3_conv\n",
            "36 conv2_block3_3_bn\n",
            "37 conv2_block3_add\n",
            "38 conv2_block3_out\n",
            "39 conv3_block1_1_conv\n",
            "40 conv3_block1_1_bn\n",
            "41 conv3_block1_1_relu\n",
            "42 conv3_block1_2_conv\n",
            "43 conv3_block1_2_bn\n",
            "44 conv3_block1_2_relu\n",
            "45 conv3_block1_0_conv\n",
            "46 conv3_block1_3_conv\n",
            "47 conv3_block1_0_bn\n",
            "48 conv3_block1_3_bn\n",
            "49 conv3_block1_add\n",
            "50 conv3_block1_out\n",
            "51 conv3_block2_1_conv\n",
            "52 conv3_block2_1_bn\n",
            "53 conv3_block2_1_relu\n",
            "54 conv3_block2_2_conv\n",
            "55 conv3_block2_2_bn\n",
            "56 conv3_block2_2_relu\n",
            "57 conv3_block2_3_conv\n",
            "58 conv3_block2_3_bn\n",
            "59 conv3_block2_add\n",
            "60 conv3_block2_out\n",
            "61 conv3_block3_1_conv\n",
            "62 conv3_block3_1_bn\n",
            "63 conv3_block3_1_relu\n",
            "64 conv3_block3_2_conv\n",
            "65 conv3_block3_2_bn\n",
            "66 conv3_block3_2_relu\n",
            "67 conv3_block3_3_conv\n",
            "68 conv3_block3_3_bn\n",
            "69 conv3_block3_add\n",
            "70 conv3_block3_out\n",
            "71 conv3_block4_1_conv\n",
            "72 conv3_block4_1_bn\n",
            "73 conv3_block4_1_relu\n",
            "74 conv3_block4_2_conv\n",
            "75 conv3_block4_2_bn\n",
            "76 conv3_block4_2_relu\n",
            "77 conv3_block4_3_conv\n",
            "78 conv3_block4_3_bn\n",
            "79 conv3_block4_add\n",
            "80 conv3_block4_out\n",
            "81 conv4_block1_1_conv\n",
            "82 conv4_block1_1_bn\n",
            "83 conv4_block1_1_relu\n",
            "84 conv4_block1_2_conv\n",
            "85 conv4_block1_2_bn\n",
            "86 conv4_block1_2_relu\n",
            "87 conv4_block1_0_conv\n",
            "88 conv4_block1_3_conv\n",
            "89 conv4_block1_0_bn\n",
            "90 conv4_block1_3_bn\n",
            "91 conv4_block1_add\n",
            "92 conv4_block1_out\n",
            "93 conv4_block2_1_conv\n",
            "94 conv4_block2_1_bn\n",
            "95 conv4_block2_1_relu\n",
            "96 conv4_block2_2_conv\n",
            "97 conv4_block2_2_bn\n",
            "98 conv4_block2_2_relu\n",
            "99 conv4_block2_3_conv\n",
            "100 conv4_block2_3_bn\n",
            "101 conv4_block2_add\n",
            "102 conv4_block2_out\n",
            "103 conv4_block3_1_conv\n",
            "104 conv4_block3_1_bn\n",
            "105 conv4_block3_1_relu\n",
            "106 conv4_block3_2_conv\n",
            "107 conv4_block3_2_bn\n",
            "108 conv4_block3_2_relu\n",
            "109 conv4_block3_3_conv\n",
            "110 conv4_block3_3_bn\n",
            "111 conv4_block3_add\n",
            "112 conv4_block3_out\n",
            "113 conv4_block4_1_conv\n",
            "114 conv4_block4_1_bn\n",
            "115 conv4_block4_1_relu\n",
            "116 conv4_block4_2_conv\n",
            "117 conv4_block4_2_bn\n",
            "118 conv4_block4_2_relu\n",
            "119 conv4_block4_3_conv\n",
            "120 conv4_block4_3_bn\n",
            "121 conv4_block4_add\n",
            "122 conv4_block4_out\n",
            "123 conv4_block5_1_conv\n",
            "124 conv4_block5_1_bn\n",
            "125 conv4_block5_1_relu\n",
            "126 conv4_block5_2_conv\n",
            "127 conv4_block5_2_bn\n",
            "128 conv4_block5_2_relu\n",
            "129 conv4_block5_3_conv\n",
            "130 conv4_block5_3_bn\n",
            "131 conv4_block5_add\n",
            "132 conv4_block5_out\n",
            "133 conv4_block6_1_conv\n",
            "134 conv4_block6_1_bn\n",
            "135 conv4_block6_1_relu\n",
            "136 conv4_block6_2_conv\n",
            "137 conv4_block6_2_bn\n",
            "138 conv4_block6_2_relu\n",
            "139 conv4_block6_3_conv\n",
            "140 conv4_block6_3_bn\n",
            "141 conv4_block6_add\n",
            "142 conv4_block6_out\n",
            "143 conv5_block1_1_conv\n",
            "144 conv5_block1_1_bn\n",
            "145 conv5_block1_1_relu\n",
            "146 conv5_block1_2_conv\n",
            "147 conv5_block1_2_bn\n",
            "148 conv5_block1_2_relu\n",
            "149 conv5_block1_0_conv\n",
            "150 conv5_block1_3_conv\n",
            "151 conv5_block1_0_bn\n",
            "152 conv5_block1_3_bn\n",
            "153 conv5_block1_add\n",
            "154 conv5_block1_out\n",
            "155 conv5_block2_1_conv\n",
            "156 conv5_block2_1_bn\n",
            "157 conv5_block2_1_relu\n",
            "158 conv5_block2_2_conv\n",
            "159 conv5_block2_2_bn\n",
            "160 conv5_block2_2_relu\n",
            "161 conv5_block2_3_conv\n",
            "162 conv5_block2_3_bn\n",
            "163 conv5_block2_add\n",
            "164 conv5_block2_out\n",
            "165 conv5_block3_1_conv\n",
            "166 conv5_block3_1_bn\n",
            "167 conv5_block3_1_relu\n",
            "168 conv5_block3_2_conv\n",
            "169 conv5_block3_2_bn\n",
            "170 conv5_block3_2_relu\n",
            "171 conv5_block3_3_conv\n",
            "172 conv5_block3_3_bn\n",
            "173 conv5_block3_add\n",
            "174 conv5_block3_out\n"
          ]
        }
      ]
    }
  ]
}